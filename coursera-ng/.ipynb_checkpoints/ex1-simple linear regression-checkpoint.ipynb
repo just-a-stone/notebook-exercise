{
 "cells": [
  {
   "cell_type": "code",
   "execution_count": 2,
   "metadata": {
    "collapsed": true
   },
   "outputs": [],
   "source": [
    "%matplotlib inline\n",
    "import pandas as pd\n",
    "import numpy as np\n",
    "import matplotlib.pyplot as plt"
   ]
  },
  {
   "cell_type": "markdown",
   "metadata": {},
   "source": [
    "## 第一部分 一元线性回归"
   ]
  },
  {
   "cell_type": "markdown",
   "metadata": {},
   "source": [
    "1. 读取文件里的数据，进行绘图\n",
    "2. 按模型要求，准备数据\n",
    "3. 梯度下降，实现成本函数并测试，实现梯度下降算法\n",
    "4. 回归直线绘图，模型应用做预测\n",
    "5. 误差变化过程绘图。3d和轮廓。\n",
    "6. 与sciki-learn结果比较"
   ]
  },
  {
   "cell_type": "code",
   "execution_count": 3,
   "metadata": {
    "collapsed": false
   },
   "outputs": [],
   "source": [
    "#step1\n",
    "data = pd.read_csv(\"file://127.0.0.1/E:\\ML\\作业\\ex1\\ex1data1.txt\", \\\n",
    "                   names=['population','profit'],encoding='utf-8')"
   ]
  },
  {
   "cell_type": "code",
   "execution_count": 4,
   "metadata": {
    "collapsed": false
   },
   "outputs": [
    {
     "name": "stdout",
     "output_type": "stream",
     "text": [
      "   population   profit\n",
      "0      6.1101  17.5920\n",
      "1      5.5277   9.1302\n",
      "2      8.5186  13.6620\n"
     ]
    }
   ],
   "source": [
    "len(data)\n",
    "print(data.head(3))"
   ]
  },
  {
   "cell_type": "code",
   "execution_count": 5,
   "metadata": {
    "collapsed": true
   },
   "outputs": [],
   "source": [
    "import matplotlib.font_manager as font_manager"
   ]
  },
  {
   "cell_type": "code",
   "execution_count": 6,
   "metadata": {
    "collapsed": false
   },
   "outputs": [
    {
     "data": {
      "text/plain": [
       "<matplotlib.text.Text at 0xd7c8237c50>"
      ]
     },
     "execution_count": 6,
     "metadata": {},
     "output_type": "execute_result"
    },
    {
     "data": {
      "image/png": "[encoded data removed]",
      "text/plain": [
       "<matplotlib.figure.Figure at 0xd7c82e4a20>"
      ]
     },
     "metadata": {},
     "output_type": "display_data"
    }
   ],
   "source": [
    "#step2\n",
    "# ziti = font_manager.FontProperties(fname=\"file://127.0.0.1/C://Windows/Fonts/STXINWEI.TTF\")\n",
    "\n",
    "plt.scatter(data.population.values, data.profit.values)\n",
    "plt.xlabel('population')\n",
    "plt.ylabel('profit')\n",
    "plt.xlim(4,25)\n",
    "plt.title(u'城市人口与收益散点图')\n"
   ]
  },
  {
   "cell_type": "code",
   "execution_count": 7,
   "metadata": {
    "collapsed": false
   },
   "outputs": [
    {
     "name": "stdout",
     "output_type": "stream",
     "text": [
      "<class 'numpy.ndarray'> <class 'numpy.ndarray'> <class 'numpy.ndarray'>\n"
     ]
    }
   ],
   "source": [
    "# step3\n",
    "\n",
    "x = pd.DataFrame()\n",
    "x['x0'] = np.ones(len(data))\n",
    "x['x1'] = data.population\n",
    "x = x.values\n",
    "\n",
    "y = data.profit.values\n",
    "\n",
    "theta = np.zeros(2)\n",
    "\n",
    "print(type(x), type(y), type(theta))\n",
    "\n",
    "assert type(x) == np.ndarray and x.shape == (97,2)\n",
    "assert type(y) == np.ndarray and y.shape == (97,)\n",
    "assert type(theta) == np.ndarray and theta.shape == (2,)"
   ]
  },
  {
   "cell_type": "code",
   "execution_count": 25,
   "metadata": {
    "collapsed": true
   },
   "outputs": [],
   "source": [
    "def compute_cost(X, y, theta):\n",
    "    temp = (X * theta) - y\n",
    "    haha = np.sum(np.power(temp,2))/(2*X.shape[0])\n",
    "#     print(haha)\n",
    "    return haha"
   ]
  },
  {
   "cell_type": "code",
   "execution_count": 26,
   "metadata": {
    "collapsed": false
   },
   "outputs": [
    {
     "name": "stdout",
     "output_type": "stream",
     "text": [
      "32.0727338775\n"
     ]
    }
   ],
   "source": [
    "j_val = compute_cost(np.matrix(x),np.matrix(y).T,np.matrix(theta).T)\n",
    "print(j_val)"
   ]
  },
  {
   "cell_type": "code",
   "execution_count": 34,
   "metadata": {
    "collapsed": true
   },
   "outputs": [],
   "source": [
    "iterations = 1500\n",
    "alpha = 0.01"
   ]
  },
  {
   "cell_type": "markdown",
   "metadata": {},
   "source": [
    "**梯度下降**"
   ]
  },
  {
   "cell_type": "markdown",
   "metadata": {},
   "source": [
    "输入：矩阵X _mxn_，矩阵y _mx1_，权重theta _nx1_"
   ]
  },
  {
   "cell_type": "code",
   "execution_count": null,
   "metadata": {
    "collapsed": true
   },
   "outputs": [],
   "source": []
  },
  {
   "cell_type": "code",
   "execution_count": 30,
   "metadata": {
    "collapsed": true
   },
   "outputs": [],
   "source": [
    "def gradient_descent(X,y,theta,alpha,iteratoins):\n",
    "    temp = np.matrix(np.zeros(theta.shape))\n",
    "    cost = np.zeros(iterations)\n",
    "    \n",
    "    m = X.shape[0]\n",
    "    for i in range(iterations):\n",
    "        error = (X * theta) - y\n",
    "#         print(error)\n",
    "        for j in range(theta.shape[0]):\n",
    "#             print((X)[:,1])\n",
    "            gradient = np.sum(np.multiply(error, (X[:,j]))) / m\n",
    "            temp[j,0] = temp[j,0] - (alpha * gradient)\n",
    "            \n",
    "        theta = temp\n",
    "#         print(X, y, theta)\n",
    "#         print(theta)\n",
    "        cost[i] = compute_cost(X, y , theta)\n",
    "            \n",
    "    return theta, cost\n",
    "        "
   ]
  },
  {
   "cell_type": "code",
   "execution_count": 35,
   "metadata": {
    "collapsed": false
   },
   "outputs": [],
   "source": [
    "g, cost = gradient_descent(np.matrix(x), np.matrix(y).T, np.matrix(theta).T, alpha, iterations)"
   ]
  },
  {
   "cell_type": "code",
   "execution_count": 37,
   "metadata": {
    "collapsed": false
   },
   "outputs": [
    {
     "data": {
      "text/plain": [
       "matrix([[-3.63029144],\n",
       "        [ 1.16636235]])"
      ]
     },
     "execution_count": 37,
     "metadata": {},
     "output_type": "execute_result"
    }
   ],
   "source": [
    "g"
   ]
  },
  {
   "cell_type": "code",
   "execution_count": 39,
   "metadata": {
    "collapsed": false
   },
   "outputs": [
    {
     "name": "stdout",
     "output_type": "stream",
     "text": [
      "4.48338825659\n"
     ]
    }
   ],
   "source": [
    "print(compute_cost(np.matrix(x), np.matrix(y).T, g))"
   ]
  },
  {
   "cell_type": "code",
   "execution_count": 52,
   "metadata": {
    "collapsed": false
   },
   "outputs": [],
   "source": [
    "#step4\n",
    "xrange = np.linspace(data.population.min(), data.population.max(), 100)\n",
    "xrange.shape = (100,1) \n",
    "xrange = np.insert(xrange, 0, 1,axis=1)\n",
    "yrange = np.matrix(xrange) * np.matrix(g)"
   ]
  },
  {
   "cell_type": "code",
   "execution_count": 58,
   "metadata": {
    "collapsed": false
   },
   "outputs": [
    {
     "data": {
      "text/plain": [
       "<matplotlib.legend.Legend at 0xd7c8bf7f98>"
      ]
     },
     "execution_count": 58,
     "metadata": {},
     "output_type": "execute_result"
    },
    {
     "data": {
      "image/png": "[encoded data removed]",
      "text/plain": [
       "<matplotlib.figure.Figure at 0xd7c8ae32b0>"
      ]
     },
     "metadata": {},
     "output_type": "display_data"
    }
   ],
   "source": [
    "fig, ax = plt.subplots(figsize=(12,8))\n",
    "ax.plot(xrange[:,1:], yrange, 'r', label='Prediction')\n",
    "\n",
    "ax.scatter(data.population, data.profit, label='Traning Data')\n",
    "ax.set_xlabel('Population')\n",
    "ax.set_ylabel('Profit')\n",
    "ax.set_title('Predicted Profit vs. Population Size')\n",
    "ax.legend(loc='best')"
   ]
  },
  {
   "cell_type": "code",
   "execution_count": null,
   "metadata": {
    "collapsed": true
   },
   "outputs": [],
   "source": [
    "#代价随迭代次数变化\n"
   ]
  }
 ],
 "metadata": {
  "kernelspec": {
   "display_name": "Python 3",
   "language": "python",
   "name": "python3"
  },
  "language_info": {
   "codemirror_mode": {
    "name": "ipython",
    "version": 3
   },
   "file_extension": ".py",
   "mimetype": "text/x-python",
   "name": "python",
   "nbconvert_exporter": "python",
   "pygments_lexer": "ipython3",
   "version": "3.6.0"
  }
 },
 "nbformat": 4,
 "nbformat_minor": 2
}
