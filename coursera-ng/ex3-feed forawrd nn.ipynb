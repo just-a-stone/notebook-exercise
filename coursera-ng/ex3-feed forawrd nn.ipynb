{
 "cells": [
  {
   "cell_type": "code",
   "execution_count": 2,
   "metadata": {
    "collapsed": true
   },
   "outputs": [],
   "source": [
    "import numpy as np\n",
    "%matplotlib inline\n",
    "\n",
    "from helper import logistic_regression as lr\n",
    "\n",
    "from sklearn.metrics import classification_report"
   ]
  },
  {
   "cell_type": "code",
   "execution_count": 3,
   "metadata": {
    "collapsed": true
   },
   "outputs": [],
   "source": [
    "import scipy.io as sio"
   ]
  },
  {
   "cell_type": "code",
   "execution_count": 4,
   "metadata": {
    "collapsed": true
   },
   "outputs": [],
   "source": [
    "def load_weight(path):\n",
    "    data = sio.loadmat(path)\n",
    "    return data['Theta1'],data['Theta2']"
   ]
  },
  {
   "cell_type": "code",
   "execution_count": 5,
   "metadata": {
    "collapsed": false
   },
   "outputs": [
    {
     "name": "stdout",
     "output_type": "stream",
     "text": [
      "(25, 401) (10, 26)\n"
     ]
    }
   ],
   "source": [
    "theta1, theta2 = load_weight('data-in/ex3weights.mat')\n",
    "print(theta1.shape, theta2.shape)"
   ]
  },
  {
   "cell_type": "code",
   "execution_count": 6,
   "metadata": {
    "collapsed": true
   },
   "outputs": [],
   "source": [
    "def load_data(path, transpose=True):\n",
    "    data = sio.loadmat(path)\n",
    "    \n",
    "    X = data.get('X')\n",
    "    y = data.get('y')\n",
    "    \n",
    "    if transpose:\n",
    "        X = np.array([im.reshape((20,20)).T for im in X])\n",
    "        X = np.array([im.reshape[400] for im in X])\n",
    "        \n",
    "    return X, y"
   ]
  },
  {
   "cell_type": "code",
   "execution_count": 7,
   "metadata": {
    "collapsed": false
   },
   "outputs": [
    {
     "name": "stdout",
     "output_type": "stream",
     "text": [
      "(5000, 401) (5000, 1)\n"
     ]
    }
   ],
   "source": [
    "X, y = load_data('data-in/ex3data1.mat', transpose=False)\n",
    "X = np.insert(X, 0, np.zeros(X.shape[0]), axis=1)\n",
    "print(X.shape, y.shape)"
   ]
  },
  {
   "cell_type": "markdown",
   "metadata": {},
   "source": [
    "## feed forward prediction"
   ]
  },
  {
   "cell_type": "code",
   "execution_count": 8,
   "metadata": {
    "collapsed": true
   },
   "outputs": [],
   "source": [
    "a1 = X"
   ]
  },
  {
   "cell_type": "code",
   "execution_count": 9,
   "metadata": {
    "collapsed": false
   },
   "outputs": [
    {
     "data": {
      "text/plain": [
       "(5000, 25)"
      ]
     },
     "execution_count": 9,
     "metadata": {},
     "output_type": "execute_result"
    }
   ],
   "source": [
    "z2 = a1 @ theta1.T\n",
    "z2.shape"
   ]
  },
  {
   "cell_type": "code",
   "execution_count": 10,
   "metadata": {
    "collapsed": false
   },
   "outputs": [
    {
     "data": {
      "text/plain": [
       "(5000, 25)"
      ]
     },
     "execution_count": 10,
     "metadata": {},
     "output_type": "execute_result"
    }
   ],
   "source": [
    "a2 = lr.sigmoid(z2)\n",
    "a2.shape"
   ]
  },
  {
   "cell_type": "code",
   "execution_count": 12,
   "metadata": {
    "collapsed": false
   },
   "outputs": [
    {
     "data": {
      "text/plain": [
       "(5000, 10)"
      ]
     },
     "execution_count": 12,
     "metadata": {},
     "output_type": "execute_result"
    }
   ],
   "source": [
    "a2 = np.insert(a2, 0, np.zeros(a2.shape[0]), axis=1)\n",
    "z3 = a2 @ theta2.T\n",
    "z3.shape"
   ]
  },
  {
   "cell_type": "code",
   "execution_count": 13,
   "metadata": {
    "collapsed": false
   },
   "outputs": [
    {
     "data": {
      "text/plain": [
       "array([[  1.52167744e-04,   2.84297242e-03,   5.28896750e-03, ...,\n",
       "          6.46126993e-04,   9.18087289e-03,   9.97501806e-01],\n",
       "       [  6.04009892e-04,   3.84764099e-03,   7.21522064e-03, ...,\n",
       "          3.39512783e-03,   3.30474181e-03,   9.97598928e-01],\n",
       "       [  1.52502495e-04,   8.61511976e-03,   5.65465406e-02, ...,\n",
       "          1.14196379e-01,   9.63706410e-03,   9.58876359e-01],\n",
       "       ..., \n",
       "       [  7.07692313e-02,   6.60767210e-03,   6.59591536e-02, ...,\n",
       "          7.00791321e-03,   7.02278887e-01,   3.97192899e-05],\n",
       "       [  1.24777246e-03,   7.00971964e-04,   7.93249145e-04, ...,\n",
       "          2.38842706e-02,   9.81588565e-01,   4.08654939e-04],\n",
       "       [  9.22617544e-05,   8.31681371e-04,   4.12425109e-05, ...,\n",
       "          1.22123343e-02,   7.28946403e-01,   1.82520032e-01]])"
      ]
     },
     "execution_count": 13,
     "metadata": {},
     "output_type": "execute_result"
    }
   ],
   "source": [
    "a3 = lr.sigmoid(z3)\n",
    "a3"
   ]
  },
  {
   "cell_type": "code",
   "execution_count": 14,
   "metadata": {
    "collapsed": false
   },
   "outputs": [
    {
     "data": {
      "text/plain": [
       "(5000,)"
      ]
     },
     "execution_count": 14,
     "metadata": {},
     "output_type": "execute_result"
    }
   ],
   "source": [
    "y_pred = np.argmax(a3, axis=1) + 1\n",
    "y_pred.shape"
   ]
  },
  {
   "cell_type": "code",
   "execution_count": 18,
   "metadata": {
    "collapsed": false
   },
   "outputs": [
    {
     "name": "stdout",
     "output_type": "stream",
     "text": [
      "             precision    recall  f1-score   support\n",
      "\n",
      "          1       0.99      0.97      0.98       508\n",
      "          2       0.97      0.98      0.97       498\n",
      "          3       0.97      0.96      0.97       502\n",
      "          4       0.96      0.97      0.96       498\n",
      "          5       0.96      0.98      0.97       486\n",
      "          6       0.99      0.97      0.98       506\n",
      "          7       0.96      0.98      0.97       489\n",
      "          8       0.98      0.96      0.97       511\n",
      "          9       0.96      0.96      0.96       496\n",
      "         10       0.99      0.98      0.98       506\n",
      "\n",
      "avg / total       0.97      0.97      0.97      5000\n",
      "\n"
     ]
    }
   ],
   "source": [
    "print(classification_report(y_pred, y))"
   ]
  }
 ],
 "metadata": {
  "kernelspec": {
   "display_name": "Python 3",
   "language": "python",
   "name": "python3"
  },
  "language_info": {
   "codemirror_mode": {
    "name": "ipython",
    "version": 3
   },
   "file_extension": ".py",
   "mimetype": "text/x-python",
   "name": "python",
   "nbconvert_exporter": "python",
   "pygments_lexer": "ipython3",
   "version": "3.6.1"
  }
 },
 "nbformat": 4,
 "nbformat_minor": 2
}
