{
 "cells": [
  {
   "cell_type": "code",
   "execution_count": 1,
   "metadata": {
    "collapsed": true
   },
   "outputs": [],
   "source": [
    "%matplotlib inline\n",
    "\n",
    "import matplotlib\n",
    "import matplotlib.pyplot as plt\n",
    "\n",
    "import pandas as pd\n",
    "import numpy as np"
   ]
  },
  {
   "cell_type": "code",
   "execution_count": 2,
   "metadata": {
    "collapsed": true
   },
   "outputs": [],
   "source": [
    "# 定义文件名\n",
    "ACTION_201602_FILE = \"data/JData_Action_201602.csv\"\n",
    "ACTION_201603_FILE = \"data/JData_Action_201603.csv\"\n",
    "# ACTION_201603_EXTRA_FILE = \"data/JData_Action_201603_extra.csv\"\n",
    "ACTION_201604_FILE = \"data/JData_Action_201604.csv\"\n",
    "COMMENT_FILE = \"data/JData_Comment.csv\"\n",
    "PRODUCT_FILE = \"data/JData_Product.csv\"\n",
    "USER_FILE = \"data/JData_User.csv\"\n",
    "NEW_USER_FILE = \"data/JData_User_New.csv\"\n",
    "USER_TABLE_FILE = \"data/user_table.csv\"\n",
    "ITEM_TABLE_FILE = \"data/item_table.csv\""
   ]
  },
  {
   "cell_type": "code",
   "execution_count": 4,
   "metadata": {
    "collapsed": false
   },
   "outputs": [],
   "source": [
    "# 提取购买(type=4)的行为数据\n",
    "def get_from_action_data(fname, chunk_size=100000):\n",
    "    reader = pd.read_csv(fname, header=0, iterator=True)\n",
    "    chunks = []\n",
    "    loop = True\n",
    "    df_ac = {}\n",
    "    while loop:\n",
    "        try:\n",
    "            chunk = reader.get_chunk(chunk_size)[\n",
    "                [\"user_id\", \"sku_id\", \"type\", \"time\"]]\n",
    "            chunks.append(chunk)\n",
    "            if len(chunks) % 10 == 0:\n",
    "                df_ac = pd.concat(chunks, ignore_index=True)\n",
    "                df_ac = df_ac[df_ac['type'] == 4]\n",
    "                chunks = [df_ac]\n",
    "                print(len(df_ac.index))\n",
    "        except StopIteration:\n",
    "            loop = False\n",
    "            print(\"Iteration is stopped\")\n",
    "\n",
    "#     df_ac = pd.concat(chunks, ignore_index=True)\n",
    "    # type=4,为购买\n",
    "#     df_ac = df_ac[df_ac['type'] == 4]\n",
    "\n",
    "    return df_ac[[\"user_id\", \"sku_id\", \"time\"]]"
   ]
  },
  {
   "cell_type": "code",
   "execution_count": 6,
   "metadata": {
    "collapsed": false
   },
   "outputs": [
    {
     "name": "stdout",
     "output_type": "stream",
     "text": [
      "1352\n",
      "2052\n",
      "2614\n",
      "3309\n",
      "4243\n",
      "5362\n",
      "6374\n",
      "7178\n",
      "8168\n",
      "9201\n",
      "10185\n",
      "10965\n",
      "Iteration is stopped\n",
      "1299\n",
      "2176\n",
      "3045\n",
      "3674\n",
      "4264\n",
      "5573\n",
      "6405\n",
      "7076\n",
      "7953\n",
      "8775\n",
      "9427\n",
      "9955\n",
      "10936\n",
      "11935\n",
      "13295\n",
      "14543\n",
      "15536\n",
      "16309\n",
      "17034\n",
      "17616\n",
      "18354\n",
      "19164\n",
      "19886\n",
      "20831\n",
      "21494\n",
      "22260\n",
      "23144\n",
      "23849\n",
      "Iteration is stopped\n",
      "892\n",
      "1496\n",
      "2107\n",
      "2744\n",
      "3394\n",
      "4346\n",
      "5493\n",
      "6331\n",
      "6983\n",
      "7677\n",
      "8348\n",
      "9124\n",
      "10816\n",
      "11851\n",
      "Iteration is stopped\n"
     ]
    }
   ],
   "source": [
    "df_ac = []\n",
    "df_ac.append(get_from_action_data(fname=ACTION_201602_FILE))\n",
    "df_ac.append(get_from_action_data(fname=ACTION_201603_FILE))\n",
    "# df_ac.append(get_from_action_data(fname=ACTION_201603_EXTRA_FILE))\n",
    "df_ac.append(get_from_action_data(fname=ACTION_201604_FILE))\n",
    "df_ac = pd.concat(df_ac, ignore_index=True)"
   ]
  },
  {
   "cell_type": "code",
   "execution_count": 7,
   "metadata": {
    "collapsed": false
   },
   "outputs": [
    {
     "name": "stdout",
     "output_type": "stream",
     "text": [
      "user_id    float64\n",
      "sku_id       int64\n",
      "time        object\n",
      "dtype: object\n"
     ]
    }
   ],
   "source": [
    "print(df_ac.dtypes)"
   ]
  },
  {
   "cell_type": "code",
   "execution_count": 8,
   "metadata": {
    "collapsed": true
   },
   "outputs": [],
   "source": [
    "#将time字段转换为datetime\n",
    "df_ac['time'] = pd.to_datetime(df_ac['time'])"
   ]
  },
  {
   "cell_type": "code",
   "execution_count": 9,
   "metadata": {
    "collapsed": true
   },
   "outputs": [],
   "source": [
    "# 使用lambda匿名函数将时间time转换为星期(周一为1, 周日为７)\n",
    "df_ac['time'] = df_ac['time'].apply(lambda x : x.weekday() + 1)"
   ]
  },
  {
   "cell_type": "code",
   "execution_count": 10,
   "metadata": {
    "collapsed": false
   },
   "outputs": [],
   "source": [
    "#周一到周日每天购买用户个数\n",
    "df_user = df_ac.groupby('time')['user_id'].nunique()"
   ]
  },
  {
   "cell_type": "code",
   "execution_count": 11,
   "metadata": {
    "collapsed": false
   },
   "outputs": [],
   "source": [
    "df_user = df_user.to_frame().reset_index()"
   ]
  },
  {
   "cell_type": "code",
   "execution_count": 12,
   "metadata": {
    "collapsed": false
   },
   "outputs": [],
   "source": [
    "df_user.columns = ['weekday','user_num']"
   ]
  },
  {
   "cell_type": "code",
   "execution_count": 14,
   "metadata": {
    "collapsed": false
   },
   "outputs": [
    {
     "data": {
      "text/html": [
       "<div>\n",
       "<table border=\"1\" class=\"dataframe\">\n",
       "  <thead>\n",
       "    <tr style=\"text-align: right;\">\n",
       "      <th></th>\n",
       "      <th>weekday</th>\n",
       "      <th>user_num</th>\n",
       "    </tr>\n",
       "  </thead>\n",
       "  <tbody>\n",
       "    <tr>\n",
       "      <th>0</th>\n",
       "      <td>1</td>\n",
       "      <td>5793</td>\n",
       "    </tr>\n",
       "    <tr>\n",
       "      <th>1</th>\n",
       "      <td>2</td>\n",
       "      <td>6946</td>\n",
       "    </tr>\n",
       "    <tr>\n",
       "      <th>2</th>\n",
       "      <td>3</td>\n",
       "      <td>5001</td>\n",
       "    </tr>\n",
       "    <tr>\n",
       "      <th>3</th>\n",
       "      <td>4</td>\n",
       "      <td>5920</td>\n",
       "    </tr>\n",
       "    <tr>\n",
       "      <th>4</th>\n",
       "      <td>5</td>\n",
       "      <td>5708</td>\n",
       "    </tr>\n",
       "    <tr>\n",
       "      <th>5</th>\n",
       "      <td>6</td>\n",
       "      <td>4174</td>\n",
       "    </tr>\n",
       "    <tr>\n",
       "      <th>6</th>\n",
       "      <td>7</td>\n",
       "      <td>3695</td>\n",
       "    </tr>\n",
       "  </tbody>\n",
       "</table>\n",
       "</div>"
      ],
      "text/plain": [
       "   weekday  user_num\n",
       "0        1      5793\n",
       "1        2      6946\n",
       "2        3      5001\n",
       "3        4      5920\n",
       "4        5      5708\n",
       "5        6      4174\n",
       "6        7      3695"
      ]
     },
     "execution_count": 14,
     "metadata": {},
     "output_type": "execute_result"
    }
   ],
   "source": [
    "df_user"
   ]
  },
  {
   "cell_type": "code",
   "execution_count": 15,
   "metadata": {
    "collapsed": true
   },
   "outputs": [],
   "source": [
    "#周一到周日每天购买商品种类数\n",
    "df_item = df_ac.groupby('time')['sku_id'].nunique()"
   ]
  },
  {
   "cell_type": "code",
   "execution_count": 16,
   "metadata": {
    "collapsed": true
   },
   "outputs": [],
   "source": [
    "df_item = df_item.to_frame().reset_index()"
   ]
  },
  {
   "cell_type": "code",
   "execution_count": 17,
   "metadata": {
    "collapsed": true
   },
   "outputs": [],
   "source": [
    "df_item.columns = ['weekday','item_num']"
   ]
  },
  {
   "cell_type": "code",
   "execution_count": 18,
   "metadata": {
    "collapsed": false
   },
   "outputs": [
    {
     "data": {
      "text/html": [
       "<div>\n",
       "<table border=\"1\" class=\"dataframe\">\n",
       "  <thead>\n",
       "    <tr style=\"text-align: right;\">\n",
       "      <th></th>\n",
       "      <th>weekday</th>\n",
       "      <th>item_num</th>\n",
       "    </tr>\n",
       "  </thead>\n",
       "  <tbody>\n",
       "    <tr>\n",
       "      <th>0</th>\n",
       "      <td>1</td>\n",
       "      <td>1780</td>\n",
       "    </tr>\n",
       "    <tr>\n",
       "      <th>1</th>\n",
       "      <td>2</td>\n",
       "      <td>1996</td>\n",
       "    </tr>\n",
       "    <tr>\n",
       "      <th>2</th>\n",
       "      <td>3</td>\n",
       "      <td>1800</td>\n",
       "    </tr>\n",
       "    <tr>\n",
       "      <th>3</th>\n",
       "      <td>4</td>\n",
       "      <td>1726</td>\n",
       "    </tr>\n",
       "    <tr>\n",
       "      <th>4</th>\n",
       "      <td>5</td>\n",
       "      <td>1805</td>\n",
       "    </tr>\n",
       "    <tr>\n",
       "      <th>5</th>\n",
       "      <td>6</td>\n",
       "      <td>1643</td>\n",
       "    </tr>\n",
       "    <tr>\n",
       "      <th>6</th>\n",
       "      <td>7</td>\n",
       "      <td>1574</td>\n",
       "    </tr>\n",
       "  </tbody>\n",
       "</table>\n",
       "</div>"
      ],
      "text/plain": [
       "   weekday  item_num\n",
       "0        1      1780\n",
       "1        2      1996\n",
       "2        3      1800\n",
       "3        4      1726\n",
       "4        5      1805\n",
       "5        6      1643\n",
       "6        7      1574"
      ]
     },
     "execution_count": 18,
     "metadata": {},
     "output_type": "execute_result"
    }
   ],
   "source": [
    "df_item"
   ]
  },
  {
   "cell_type": "code",
   "execution_count": 19,
   "metadata": {
    "collapsed": true
   },
   "outputs": [],
   "source": [
    "#周一到周日每天购买商品数\n",
    "df_ui = df_ac.groupby('time',as_index=False).size()"
   ]
  },
  {
   "cell_type": "code",
   "execution_count": 20,
   "metadata": {
    "collapsed": false
   },
   "outputs": [],
   "source": [
    "df_ui = df_ui.to_frame().reset_index()"
   ]
  },
  {
   "cell_type": "code",
   "execution_count": 21,
   "metadata": {
    "collapsed": true
   },
   "outputs": [],
   "source": [
    "df_ui.columns = ['weekday','user_item_num']"
   ]
  },
  {
   "cell_type": "code",
   "execution_count": 22,
   "metadata": {
    "collapsed": false
   },
   "outputs": [
    {
     "data": {
      "text/html": [
       "<div>\n",
       "<table border=\"1\" class=\"dataframe\">\n",
       "  <thead>\n",
       "    <tr style=\"text-align: right;\">\n",
       "      <th></th>\n",
       "      <th>weekday</th>\n",
       "      <th>user_item_num</th>\n",
       "    </tr>\n",
       "  </thead>\n",
       "  <tbody>\n",
       "    <tr>\n",
       "      <th>0</th>\n",
       "      <td>1</td>\n",
       "      <td>7259</td>\n",
       "    </tr>\n",
       "    <tr>\n",
       "      <th>1</th>\n",
       "      <td>2</td>\n",
       "      <td>8869</td>\n",
       "    </tr>\n",
       "    <tr>\n",
       "      <th>2</th>\n",
       "      <td>3</td>\n",
       "      <td>6262</td>\n",
       "    </tr>\n",
       "    <tr>\n",
       "      <th>3</th>\n",
       "      <td>4</td>\n",
       "      <td>7439</td>\n",
       "    </tr>\n",
       "    <tr>\n",
       "      <th>4</th>\n",
       "      <td>5</td>\n",
       "      <td>7077</td>\n",
       "    </tr>\n",
       "    <tr>\n",
       "      <th>5</th>\n",
       "      <td>6</td>\n",
       "      <td>5143</td>\n",
       "    </tr>\n",
       "    <tr>\n",
       "      <th>6</th>\n",
       "      <td>7</td>\n",
       "      <td>4616</td>\n",
       "    </tr>\n",
       "  </tbody>\n",
       "</table>\n",
       "</div>"
      ],
      "text/plain": [
       "   weekday  user_item_num\n",
       "0        1           7259\n",
       "1        2           8869\n",
       "2        3           6262\n",
       "3        4           7439\n",
       "4        5           7077\n",
       "5        6           5143\n",
       "6        7           4616"
      ]
     },
     "execution_count": 22,
     "metadata": {},
     "output_type": "execute_result"
    }
   ],
   "source": [
    "df_ui"
   ]
  },
  {
   "cell_type": "code",
   "execution_count": 23,
   "metadata": {
    "collapsed": false
   },
   "outputs": [
    {
     "data": {
      "text/plain": [
       "<matplotlib.legend.Legend at 0xdf1ccb7080>"
      ]
     },
     "execution_count": 23,
     "metadata": {},
     "output_type": "execute_result"
    },
    {
     "data": {
      "image/png": "[encoded data removed]",
      "text/plain": [
       "<matplotlib.figure.Figure at 0xdf1a4bd470>"
      ]
     },
     "metadata": {},
     "output_type": "display_data"
    }
   ],
   "source": [
    "bar_width = 0.2\n",
    "opacity = 0.4\n",
    "\n",
    "plt.bar(df_user['weekday'],df_user['user_num'],bar_width,alpha=opacity,color='c',label='user')\n",
    "plt.bar(df_item['weekday'] + bar_width,df_item['item_num'],bar_width,alpha=opacity,color='g',label='item')\n",
    "plt.bar(df_ui['weekday']+2*bar_width,df_ui['user_item_num'],bar_width,alpha=opacity,color='m',label='user_item')\n",
    "\n",
    "plt.xlabel('weekday')\n",
    "plt.ylabel('number')\n",
    "plt.title('A Week Purchase Table')\n",
    "\n",
    "plt.xticks(df_user['weekday'] + bar_width, (1,2,3,4,5,6,7))\n",
    "plt.tight_layout()\n",
    "plt.legend(prop={'size':9})"
   ]
  },
  {
   "cell_type": "markdown",
   "metadata": {},
   "source": [
    "一个月每天购买情况"
   ]
  },
  {
   "cell_type": "code",
   "execution_count": 27,
   "metadata": {
    "collapsed": false
   },
   "outputs": [
    {
     "name": "stdout",
     "output_type": "stream",
     "text": [
      "1352\n",
      "2052\n",
      "2614\n",
      "3309\n",
      "4243\n",
      "5362\n",
      "6374\n",
      "7178\n",
      "8168\n",
      "9201\n",
      "10185\n",
      "10965\n",
      "Iteration is stopped\n"
     ]
    }
   ],
   "source": [
    "df_ac = get_from_action_data(fname=ACTION_201602_FILE)\n",
    "\n",
    "df_ac['time'] = pd.to_datetime(df_ac['time']).apply(lambda x : x.day)"
   ]
  },
  {
   "cell_type": "code",
   "execution_count": 28,
   "metadata": {
    "collapsed": false
   },
   "outputs": [
    {
     "data": {
      "text/html": [
       "<div>\n",
       "<table border=\"1\" class=\"dataframe\">\n",
       "  <thead>\n",
       "    <tr style=\"text-align: right;\">\n",
       "      <th></th>\n",
       "      <th>day</th>\n",
       "      <th>user_num</th>\n",
       "    </tr>\n",
       "  </thead>\n",
       "  <tbody>\n",
       "    <tr>\n",
       "      <th>0</th>\n",
       "      <td>1</td>\n",
       "      <td>454</td>\n",
       "    </tr>\n",
       "    <tr>\n",
       "      <th>1</th>\n",
       "      <td>2</td>\n",
       "      <td>383</td>\n",
       "    </tr>\n",
       "    <tr>\n",
       "      <th>2</th>\n",
       "      <td>3</td>\n",
       "      <td>302</td>\n",
       "    </tr>\n",
       "    <tr>\n",
       "      <th>3</th>\n",
       "      <td>4</td>\n",
       "      <td>256</td>\n",
       "    </tr>\n",
       "    <tr>\n",
       "      <th>4</th>\n",
       "      <td>5</td>\n",
       "      <td>160</td>\n",
       "    </tr>\n",
       "  </tbody>\n",
       "</table>\n",
       "</div>"
      ],
      "text/plain": [
       "   day  user_num\n",
       "0    1       454\n",
       "1    2       383\n",
       "2    3       302\n",
       "3    4       256\n",
       "4    5       160"
      ]
     },
     "execution_count": 28,
     "metadata": {},
     "output_type": "execute_result"
    }
   ],
   "source": [
    "df_user = df_ac.groupby(df_ac['time'])['user_id'].nunique()\n",
    "df_user = df_user.to_frame().reset_index()\n",
    "df_user.columns = ['day','user_num']\n",
    "df_user.head(5)"
   ]
  },
  {
   "cell_type": "code",
   "execution_count": 33,
   "metadata": {
    "collapsed": false
   },
   "outputs": [
    {
     "data": {
      "text/html": [
       "<div>\n",
       "<table border=\"1\" class=\"dataframe\">\n",
       "  <thead>\n",
       "    <tr style=\"text-align: right;\">\n",
       "      <th></th>\n",
       "      <th>day</th>\n",
       "      <th>item_num</th>\n",
       "    </tr>\n",
       "  </thead>\n",
       "  <tbody>\n",
       "    <tr>\n",
       "      <th>0</th>\n",
       "      <td>1</td>\n",
       "      <td>352</td>\n",
       "    </tr>\n",
       "    <tr>\n",
       "      <th>1</th>\n",
       "      <td>2</td>\n",
       "      <td>311</td>\n",
       "    </tr>\n",
       "    <tr>\n",
       "      <th>2</th>\n",
       "      <td>3</td>\n",
       "      <td>255</td>\n",
       "    </tr>\n",
       "    <tr>\n",
       "      <th>3</th>\n",
       "      <td>4</td>\n",
       "      <td>213</td>\n",
       "    </tr>\n",
       "    <tr>\n",
       "      <th>4</th>\n",
       "      <td>5</td>\n",
       "      <td>147</td>\n",
       "    </tr>\n",
       "  </tbody>\n",
       "</table>\n",
       "</div>"
      ],
      "text/plain": [
       "   day  item_num\n",
       "0    1       352\n",
       "1    2       311\n",
       "2    3       255\n",
       "3    4       213\n",
       "4    5       147"
      ]
     },
     "execution_count": 33,
     "metadata": {},
     "output_type": "execute_result"
    }
   ],
   "source": [
    "df_item = df_ac.groupby(df_ac['time'])['sku_id'].nunique()\n",
    "df_item = df_item.to_frame().reset_index()\n",
    "df_item.columns = ['day','item_num']\n",
    "df_item.head(5)"
   ]
  },
  {
   "cell_type": "code",
   "execution_count": 34,
   "metadata": {
    "collapsed": false
   },
   "outputs": [
    {
     "data": {
      "text/html": [
       "<div>\n",
       "<table border=\"1\" class=\"dataframe\">\n",
       "  <thead>\n",
       "    <tr style=\"text-align: right;\">\n",
       "      <th></th>\n",
       "      <th>day</th>\n",
       "      <th>user_item_num</th>\n",
       "    </tr>\n",
       "  </thead>\n",
       "  <tbody>\n",
       "    <tr>\n",
       "      <th>0</th>\n",
       "      <td>1</td>\n",
       "      <td>539</td>\n",
       "    </tr>\n",
       "    <tr>\n",
       "      <th>1</th>\n",
       "      <td>2</td>\n",
       "      <td>462</td>\n",
       "    </tr>\n",
       "    <tr>\n",
       "      <th>2</th>\n",
       "      <td>3</td>\n",
       "      <td>357</td>\n",
       "    </tr>\n",
       "    <tr>\n",
       "      <th>3</th>\n",
       "      <td>4</td>\n",
       "      <td>297</td>\n",
       "    </tr>\n",
       "    <tr>\n",
       "      <th>4</th>\n",
       "      <td>5</td>\n",
       "      <td>179</td>\n",
       "    </tr>\n",
       "  </tbody>\n",
       "</table>\n",
       "</div>"
      ],
      "text/plain": [
       "   day  user_item_num\n",
       "0    1            539\n",
       "1    2            462\n",
       "2    3            357\n",
       "3    4            297\n",
       "4    5            179"
      ]
     },
     "execution_count": 34,
     "metadata": {},
     "output_type": "execute_result"
    }
   ],
   "source": [
    "df_ui = df_ac.groupby(df_ac['time'],as_index=False)['sku_id'].size()\n",
    "df_ui = df_ui.to_frame().reset_index()\n",
    "df_ui.columns = ['day','user_item_num']\n",
    "df_ui.head(5)"
   ]
  },
  {
   "cell_type": "code",
   "execution_count": 37,
   "metadata": {
    "collapsed": false,
    "scrolled": true
   },
   "outputs": [
    {
     "data": {
      "text/plain": [
       "<matplotlib.legend.Legend at 0xdf191b4b70>"
      ]
     },
     "execution_count": 37,
     "metadata": {},
     "output_type": "execute_result"
    },
    {
     "data": {
      "image/png": "[encoded data removed]",
      "text/plain": [
       "<matplotlib.figure.Figure at 0xdf1af7add8>"
      ]
     },
     "metadata": {},
     "output_type": "display_data"
    }
   ],
   "source": [
    "bar_width = 0.2\n",
    "opacity = 0.4\n",
    "\n",
    "day_range = range(1,len(df_user.index) + 1,1)\n",
    "#设置图片大小\n",
    "plt.figure(figsize=(14,10))\n",
    "\n",
    "plt.bar(df_user['day'],df_user['user_num'],bar_width,alpha=opacity,color='c',label='user')\n",
    "plt.bar(df_item['day'] + bar_width,df_item['item_num'],bar_width,alpha=opacity,color='g',label='item')\n",
    "plt.bar(df_ui['day'] + 2*bar_width,df_ui['user_item_num'],bar_width,alpha=opacity,color='m',label='user_item')\n",
    "\n",
    "plt.xlabel('day')\n",
    "plt.xlabel('number')\n",
    "plt.title('February Purchase Table')\n",
    "\n",
    "plt.xticks(df_user['day'] + bar_width,day_range)\n",
    "plt.tight_layout()\n",
    "plt.legend(prop={'size':9})"
   ]
  },
  {
   "cell_type": "markdown",
   "metadata": {},
   "source": [
    "```新年后的几天，兔子们忙着串门，没空买东西"
   ]
  },
  {
   "cell_type": "code",
   "execution_count": 38,
   "metadata": {
    "collapsed": true
   },
   "outputs": [],
   "source": [
    "#特定用户对特定商品的活动轨迹"
   ]
  },
  {
   "cell_type": "code",
   "execution_count": 51,
   "metadata": {
    "collapsed": true
   },
   "outputs": [],
   "source": [
    "def spec_ui_action_data(fname, user_id, item_id, chunk_size=100000):\n",
    "    reader = pd.read_csv(fname, header=0, iterator=True)\n",
    "    chunks = []\n",
    "    loop = True\n",
    "    df_ac = {}\n",
    "    while loop:\n",
    "        try:\n",
    "            chunk = reader.get_chunk(chunk_size)[\n",
    "                [\"user_id\", \"sku_id\", \"type\", \"time\"]]\n",
    "            chunks.append(chunk)\n",
    "            if len(chunks) % 10 == 0:\n",
    "                df_ac = pd.concat(chunks, ignore_index=True)\n",
    "#                 df_ac = df_ac[(df_ac['user_id'] == user_id) & (df_ac['sku_id'] == item_id)] \n",
    "                df_ac = df_ac[(df_ac['user_id'] == user_id)]\n",
    "                chunks = [df_ac]\n",
    "        except StopIteration:\n",
    "            loop = False\n",
    "            print(\"Iteration is stopped\")\n",
    "\n",
    "#     df_ac = pd.concat(chunks, ignore_index=True)\n",
    "#     df_ac = df_ac[(df_ac['user_id'] == user_id) & (df_ac['sku_id'] == item_id)]\n",
    "\n",
    "    return df_ac"
   ]
  },
  {
   "cell_type": "code",
   "execution_count": 54,
   "metadata": {
    "collapsed": true
   },
   "outputs": [],
   "source": [
    "def explore_user_item_via_time():\n",
    "    user_id = 200001\n",
    "    item_id = 20308\n",
    "    df_ac = []\n",
    "    df_ac.append(spec_ui_action_data(ACTION_201602_FILE, user_id, item_id))\n",
    "    df_ac.append(spec_ui_action_data(ACTION_201603_FILE, user_id, item_id))\n",
    "    df_ac.append(spec_ui_action_data(ACTION_201604_FILE, user_id, item_id))\n",
    "\n",
    "    df_ac = pd.concat(df_ac, ignore_index=False)\n",
    "    df_ac = df_ac[df_ac['type'] == 4]\n",
    "    print(df_ac.sort_values(by='time'))"
   ]
  },
  {
   "cell_type": "code",
   "execution_count": 55,
   "metadata": {
    "collapsed": false
   },
   "outputs": [
    {
     "name": "stdout",
     "output_type": "stream",
     "text": [
      "Iteration is stopped\n",
      "Iteration is stopped\n",
      "Iteration is stopped\n",
      "      user_id  sku_id  type                 time\n",
      "458  200001.0   20308     4  2016-03-27 19:54:00\n"
     ]
    }
   ],
   "source": [
    "explore_user_item_via_time()"
   ]
  }
 ],
 "metadata": {
  "kernelspec": {
   "display_name": "Python 3",
   "language": "python",
   "name": "python3"
  },
  "language_info": {
   "codemirror_mode": {
    "name": "ipython",
    "version": 3
   },
   "file_extension": ".py",
   "mimetype": "text/x-python",
   "name": "python",
   "nbconvert_exporter": "python",
   "pygments_lexer": "ipython3",
   "version": "3.6.0"
  }
 },
 "nbformat": 4,
 "nbformat_minor": 2
}
