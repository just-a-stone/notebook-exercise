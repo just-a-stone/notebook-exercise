{
 "cells": [
  {
   "cell_type": "code",
   "execution_count": 47,
   "metadata": {
    "collapsed": true
   },
   "outputs": [],
   "source": [
    "import pandas as pd\n",
    "import numpy as np\n",
    "import matplotlib as mpl\n",
    "import matplotlib.pyplot as plt\n",
    "\n",
    "%matplotlib inline"
   ]
  },
  {
   "cell_type": "code",
   "execution_count": 48,
   "metadata": {
    "collapsed": false
   },
   "outputs": [],
   "source": [
    "data = pd.read_csv('iris.data', header=None)"
   ]
  },
  {
   "cell_type": "code",
   "execution_count": 49,
   "metadata": {
    "collapsed": true
   },
   "outputs": [],
   "source": [
    "data[4] = pd.Categorical(data[4]).codes"
   ]
  },
  {
   "cell_type": "code",
   "execution_count": 50,
   "metadata": {
    "collapsed": false
   },
   "outputs": [
    {
     "data": {
      "text/html": [
       "<div>\n",
       "<style>\n",
       "    .dataframe thead tr:only-child th {\n",
       "        text-align: right;\n",
       "    }\n",
       "\n",
       "    .dataframe thead th {\n",
       "        text-align: left;\n",
       "    }\n",
       "\n",
       "    .dataframe tbody tr th {\n",
       "        vertical-align: top;\n",
       "    }\n",
       "</style>\n",
       "<table border=\"1\" class=\"dataframe\">\n",
       "  <thead>\n",
       "    <tr style=\"text-align: right;\">\n",
       "      <th></th>\n",
       "      <th>0</th>\n",
       "      <th>1</th>\n",
       "      <th>2</th>\n",
       "      <th>3</th>\n",
       "      <th>4</th>\n",
       "    </tr>\n",
       "  </thead>\n",
       "  <tbody>\n",
       "    <tr>\n",
       "      <th>0</th>\n",
       "      <td>5.1</td>\n",
       "      <td>3.5</td>\n",
       "      <td>1.4</td>\n",
       "      <td>0.2</td>\n",
       "      <td>0</td>\n",
       "    </tr>\n",
       "    <tr>\n",
       "      <th>1</th>\n",
       "      <td>4.9</td>\n",
       "      <td>3.0</td>\n",
       "      <td>1.4</td>\n",
       "      <td>0.2</td>\n",
       "      <td>0</td>\n",
       "    </tr>\n",
       "    <tr>\n",
       "      <th>2</th>\n",
       "      <td>4.7</td>\n",
       "      <td>3.2</td>\n",
       "      <td>1.3</td>\n",
       "      <td>0.2</td>\n",
       "      <td>0</td>\n",
       "    </tr>\n",
       "    <tr>\n",
       "      <th>3</th>\n",
       "      <td>4.6</td>\n",
       "      <td>3.1</td>\n",
       "      <td>1.5</td>\n",
       "      <td>0.2</td>\n",
       "      <td>0</td>\n",
       "    </tr>\n",
       "    <tr>\n",
       "      <th>4</th>\n",
       "      <td>5.0</td>\n",
       "      <td>3.6</td>\n",
       "      <td>1.4</td>\n",
       "      <td>0.2</td>\n",
       "      <td>0</td>\n",
       "    </tr>\n",
       "  </tbody>\n",
       "</table>\n",
       "</div>"
      ],
      "text/plain": [
       "     0    1    2    3  4\n",
       "0  5.1  3.5  1.4  0.2  0\n",
       "1  4.9  3.0  1.4  0.2  0\n",
       "2  4.7  3.2  1.3  0.2  0\n",
       "3  4.6  3.1  1.5  0.2  0\n",
       "4  5.0  3.6  1.4  0.2  0"
      ]
     },
     "execution_count": 50,
     "metadata": {},
     "output_type": "execute_result"
    }
   ],
   "source": [
    "data.head()"
   ]
  },
  {
   "cell_type": "code",
   "execution_count": 51,
   "metadata": {
    "collapsed": false
   },
   "outputs": [
    {
     "name": "stdout",
     "output_type": "stream",
     "text": [
      "(150L, 4L) (150L, 1L)\n"
     ]
    }
   ],
   "source": [
    "x, y = np.split(data.values, (4,), axis=1)\n",
    "print x.shape,y.shape"
   ]
  },
  {
   "cell_type": "code",
   "execution_count": 52,
   "metadata": {
    "collapsed": true
   },
   "outputs": [],
   "source": [
    "# 仅使用前两个特征\n",
    "x = x[:, :2]"
   ]
  },
  {
   "cell_type": "markdown",
   "metadata": {},
   "source": [
    "## 建模"
   ]
  },
  {
   "cell_type": "code",
   "execution_count": 53,
   "metadata": {
    "collapsed": true
   },
   "outputs": [],
   "source": [
    "from sklearn.pipeline import Pipeline\n",
    "from sklearn.linear_model import LogisticRegression\n",
    "from sklearn.preprocessing import StandardScaler, PolynomialFeatures"
   ]
  },
  {
   "cell_type": "code",
   "execution_count": 54,
   "metadata": {
    "collapsed": true
   },
   "outputs": [],
   "source": [
    "lr = Pipeline([\n",
    "    ('sc', StandardScaler()),\n",
    "    ('poly', PolynomialFeatures(degree=3)),\n",
    "    ('clf', LogisticRegression())\n",
    "])"
   ]
  },
  {
   "cell_type": "code",
   "execution_count": 55,
   "metadata": {
    "collapsed": false
   },
   "outputs": [
    {
     "data": {
      "text/plain": [
       "Pipeline(steps=[('sc', StandardScaler(copy=True, with_mean=True, with_std=True)), ('poly', PolynomialFeatures(degree=3, include_bias=True, interaction_only=False)), ('clf', LogisticRegression(C=1.0, class_weight=None, dual=False, fit_intercept=True,\n",
       "          intercept_scaling=1, max_iter=100, multi_class='ovr', n_jobs=1,\n",
       "          penalty='l2', random_state=None, solver='liblinear', tol=0.0001,\n",
       "          verbose=0, warm_start=False))])"
      ]
     },
     "execution_count": 55,
     "metadata": {},
     "output_type": "execute_result"
    }
   ],
   "source": [
    "lr.fit(x, y.ravel())"
   ]
  },
  {
   "cell_type": "code",
   "execution_count": 56,
   "metadata": {
    "collapsed": false
   },
   "outputs": [
    {
     "name": "stdout",
     "output_type": "stream",
     "text": [
      "y_hat = [ 0.  0.  0.  0.  0.  0.  0.  0.  0.  0.  0.  0.  0.  0.  0.  0.  0.  0.\n",
      "  0.  0.  0.  0.  0.  0.  0.  0.  0.  0.  0.  0.  0.  0.  0.  0.  0.  0.\n",
      "  0.  0.  0.  0.  0.  0.  0.  0.  0.  0.  0.  0.  0.  0.  2.  2.  2.  1.\n",
      "  2.  1.  2.  1.  2.  1.  1.  1.  1.  1.  1.  2.  1.  1.  1.  1.  1.  1.\n",
      "  1.  1.  2.  2.  2.  2.  1.  1.  1.  1.  1.  1.  1.  2.  2.  1.  1.  1.\n",
      "  1.  1.  1.  1.  1.  1.  1.  1.  1.  1.  2.  1.  2.  1.  2.  2.  1.  2.\n",
      "  2.  2.  2.  2.  2.  1.  1.  2.  2.  2.  2.  1.  2.  1.  2.  1.  2.  2.\n",
      "  1.  1.  2.  2.  2.  2.  2.  1.  1.  2.  2.  2.  1.  2.  2.  2.  1.  2.\n",
      "  2.  2.  1.  2.  2.  1.]\n",
      "y_hat_prob [[  9.73498697e-01   1.84257154e-02   8.07558779e-03]\n",
      " [  8.55035680e-01   9.53865858e-02   4.95777340e-02]\n",
      " [  9.84620235e-01   8.31338564e-03   7.06637973e-03]\n",
      " [  9.86111906e-01   5.60638379e-03   8.28171048e-03]\n",
      " [  9.94800499e-01   3.33962270e-03   1.85987786e-03]\n",
      " [  9.95486884e-01   2.91680547e-04   4.22143578e-03]\n",
      " [  9.98680146e-01   7.11886058e-04   6.07968229e-04]\n",
      " [  9.67971894e-01   2.29892239e-02   9.03888186e-03]\n",
      " [  9.88104842e-01   1.87161058e-03   1.00235477e-02]\n",
      " [  9.02203223e-01   6.50897925e-02   3.27069850e-02]\n",
      " [  9.77233511e-01   8.17030108e-03   1.45961876e-02]\n",
      " [  9.92357352e-01   5.02599231e-03   2.61665568e-03]\n",
      " [  9.16126114e-01   4.92319472e-02   3.46419393e-02]\n",
      " [  9.96705956e-01   3.03099920e-04   2.99094389e-03]\n",
      " [  9.40108942e-01   9.60433818e-05   5.97950150e-02]\n",
      " [  9.94647609e-01   2.87221107e-10   5.35239039e-03]\n",
      " [  9.95486884e-01   2.91680547e-04   4.22143578e-03]\n",
      " [  9.73498697e-01   1.84257154e-02   8.07558779e-03]\n",
      " [  9.38370596e-01   4.18817488e-03   5.74412287e-02]\n",
      " [  9.98937536e-01   3.78333192e-04   6.84130588e-04]\n",
      " [  7.69197406e-01   1.63251965e-01   6.75506285e-02]\n",
      " [  9.96522135e-01   1.79187765e-03   1.68598779e-03]\n",
      " [  9.99856960e-01   8.53135750e-05   5.77265888e-05]\n",
      " [  8.90728401e-01   8.12156326e-02   2.80559660e-02]\n",
      " [  9.92357352e-01   5.02599231e-03   2.61665568e-03]\n",
      " [  7.60599939e-01   1.68809999e-01   7.05900616e-02]\n",
      " [  9.67971894e-01   2.29892239e-02   9.03888186e-03]\n",
      " [  9.53634847e-01   3.18615551e-02   1.45035975e-02]\n",
      " [  9.02451224e-01   7.13893769e-02   2.61593992e-02]\n",
      " [  9.84620235e-01   8.31338564e-03   7.06637973e-03]\n",
      " [  9.46103149e-01   3.22662264e-02   2.16306243e-02]\n",
      " [  7.69197406e-01   1.63251965e-01   6.75506285e-02]\n",
      " [  9.99897003e-01   1.00184212e-06   1.01995246e-04]\n",
      " [  9.98523987e-01   2.15064483e-07   1.47579811e-03]\n",
      " [  9.02203223e-01   6.50897925e-02   3.27069850e-02]\n",
      " [  8.91855560e-01   7.77877098e-02   3.03567306e-02]\n",
      " [  8.27606013e-01   1.04826356e-01   6.75676316e-02]\n",
      " [  9.02203223e-01   6.50897925e-02   3.27069850e-02]\n",
      " [  9.93481831e-01   1.07622497e-03   5.44194393e-03]\n",
      " [  9.42042625e-01   4.23080366e-02   1.56493389e-02]\n",
      " [  9.85982426e-01   9.72535749e-03   4.29221681e-03]\n",
      " [  7.32903109e-01   2.46441703e-01   2.06551873e-02]\n",
      " [  9.98652746e-01   3.14392483e-04   1.03286109e-03]\n",
      " [  9.85982426e-01   9.72535749e-03   4.29221681e-03]\n",
      " [  9.98937536e-01   3.78333192e-04   6.84130588e-04]\n",
      " [  9.16126114e-01   4.92319472e-02   3.46419393e-02]\n",
      " [  9.98937536e-01   3.78333192e-04   6.84130588e-04]\n",
      " [  9.92917146e-01   3.14336392e-03   3.93949022e-03]\n",
      " [  9.87152374e-01   5.35866410e-03   7.48896186e-03]\n",
      " [  9.37177244e-01   4.54726526e-02   1.73501037e-02]\n",
      " [  6.30560174e-04   1.91682274e-01   8.07687166e-01]\n",
      " [  3.57164511e-02   4.22215217e-01   5.42068332e-01]\n",
      " [  1.64202765e-03   2.37899278e-01   7.60458694e-01]\n",
      " [  2.80278351e-04   8.68126710e-01   1.31593012e-01]\n",
      " [  9.22357248e-03   3.99717449e-01   5.91058979e-01]\n",
      " [  4.29542219e-02   6.65430077e-01   2.91615701e-01]\n",
      " [  6.44142929e-02   4.03546930e-01   5.32038777e-01]\n",
      " [  9.00866122e-02   8.13972589e-01   9.59407987e-02]\n",
      " [  8.93205685e-03   3.62459723e-01   6.28608220e-01]\n",
      " [  1.48744325e-01   6.54163465e-01   1.97092210e-01]\n",
      " [  3.76142111e-06   9.87033295e-01   1.29629439e-02]\n",
      " [  6.50541580e-02   6.00350208e-01   3.34595634e-01]\n",
      " [  6.44818140e-06   7.72640048e-01   2.27353503e-01]\n",
      " [  3.53050845e-02   5.69037146e-01   3.95657769e-01]\n",
      " [  8.37100587e-02   6.48360596e-01   2.67929345e-01]\n",
      " [  7.58605127e-03   3.24026940e-01   6.68387009e-01]\n",
      " [  1.21340240e-01   6.21344130e-01   2.57315630e-01]\n",
      " [  2.01367859e-02   6.72085738e-01   3.07777476e-01]\n",
      " [  3.41539992e-06   6.58938531e-01   3.41058054e-01]\n",
      " [  4.69058515e-03   7.72189436e-01   2.23119978e-01]\n",
      " [  1.21215625e-01   5.46220654e-01   3.32563721e-01]\n",
      " [  2.36222354e-02   5.78095355e-01   3.98282410e-01]\n",
      " [  1.18855284e-03   4.99834867e-01   4.98976580e-01]\n",
      " [  2.36222354e-02   5.78095355e-01   3.98282410e-01]\n",
      " [  1.90420063e-02   4.60785545e-01   5.20172449e-01]\n",
      " [  1.13892787e-02   3.72607041e-01   6.16003680e-01]\n",
      " [  1.72902099e-03   2.29641485e-01   7.68629494e-01]\n",
      " [  6.59486777e-03   3.24361085e-01   6.69044047e-01]\n",
      " [  4.07927301e-02   5.94690955e-01   3.64516315e-01]\n",
      " [  1.08273365e-02   7.19058327e-01   2.70114337e-01]\n",
      " [  1.60267309e-03   8.28755372e-01   1.69641955e-01]\n",
      " [  1.60267309e-03   8.28755372e-01   1.69641955e-01]\n",
      " [  2.01367859e-02   6.72085738e-01   3.07777476e-01]\n",
      " [  1.51944680e-02   6.21612339e-01   3.63193193e-01]\n",
      " [  2.29284144e-01   5.67689724e-01   2.03026132e-01]\n",
      " [  2.30845469e-01   3.72179692e-01   3.96974838e-01]\n",
      " [  7.58605127e-03   3.24026940e-01   6.68387009e-01]\n",
      " [  3.09557583e-05   5.40273878e-01   4.59695167e-01]\n",
      " [  1.21340240e-01   6.21344130e-01   2.57315630e-01]\n",
      " [  6.32341077e-03   7.88651570e-01   2.05025019e-01]\n",
      " [  1.81025799e-02   7.49292495e-01   2.32604925e-01]\n",
      " [  4.73038894e-02   5.57995104e-01   3.94701007e-01]\n",
      " [  9.02485261e-03   6.97680372e-01   2.93294775e-01]\n",
      " [  6.41275677e-03   9.21764100e-01   7.18231433e-02]\n",
      " [  2.99544126e-02   7.03665818e-01   2.66379769e-01]\n",
      " [  9.49285660e-02   6.22518478e-01   2.82552956e-01]\n",
      " [  6.64118437e-02   6.43866612e-01   2.89721545e-01]\n",
      " [  2.99930888e-02   5.38469865e-01   4.31537046e-01]\n",
      " [  5.28312927e-02   7.96681924e-01   1.50486784e-01]\n",
      " [  4.29542219e-02   6.65430077e-01   2.91615701e-01]\n",
      " [  6.44142929e-02   4.03546930e-01   5.32038777e-01]\n",
      " [  2.01367859e-02   6.72085738e-01   3.07777476e-01]\n",
      " [  1.65753288e-04   1.57711318e-01   8.42122928e-01]\n",
      " [  2.45693650e-02   5.02485275e-01   4.72945359e-01]\n",
      " [  1.75482752e-02   4.18647862e-01   5.63803862e-01]\n",
      " [  1.80691720e-08   7.50007066e-02   9.24999275e-01]\n",
      " [  2.67506974e-01   6.15789677e-01   1.16703349e-01]\n",
      " [  6.61836929e-06   9.04522175e-02   9.09541164e-01]\n",
      " [  1.87730969e-04   2.00288962e-01   7.99523307e-01]\n",
      " [  7.10288950e-05   2.28312597e-02   9.77097711e-01]\n",
      " [  2.43426927e-02   3.85119090e-01   5.90538217e-01]\n",
      " [  7.07330553e-03   4.42527945e-01   5.50398749e-01]\n",
      " [  3.34254584e-03   2.76398781e-01   7.20258673e-01]\n",
      " [  3.69195451e-03   7.52250126e-01   2.44057920e-01]\n",
      " [  3.59585342e-02   6.50720071e-01   3.13321395e-01]\n",
      " [  3.57164511e-02   4.22215217e-01   5.42068332e-01]\n",
      " [  1.75482752e-02   4.18647862e-01   5.63803862e-01]\n",
      " [  2.31942606e-09   1.20726513e-03   9.98792733e-01]\n",
      " [  6.86189884e-11   1.71026417e-02   9.82897358e-01]\n",
      " [  6.44818140e-06   7.72640048e-01   2.27353503e-01]\n",
      " [  1.74941260e-03   2.25673542e-01   7.72577045e-01]\n",
      " [  5.36858322e-02   6.74623227e-01   2.71690941e-01]\n",
      " [  5.79133105e-10   3.87901810e-02   9.61209818e-01]\n",
      " [  9.19641586e-03   4.98512181e-01   4.92291403e-01]\n",
      " [  9.65541638e-03   2.61283432e-01   7.29061152e-01]\n",
      " [  4.75253353e-05   1.38757679e-01   8.61194796e-01]\n",
      " [  2.01733478e-02   5.43098455e-01   4.36728197e-01]\n",
      " [  4.73038894e-02   5.57995104e-01   3.94701007e-01]\n",
      " [  1.28600543e-02   4.53590775e-01   5.33549170e-01]\n",
      " [  4.19969332e-05   1.30539944e-01   8.69418059e-01]\n",
      " [  6.49465175e-07   5.70775666e-02   9.42921784e-01]\n",
      " [  3.65156544e-12   1.33335627e-03   9.98666644e-01]\n",
      " [  1.28600543e-02   4.53590775e-01   5.33549170e-01]\n",
      " [  1.65789941e-02   5.01650525e-01   4.81770481e-01]\n",
      " [  5.76979932e-03   6.00464761e-01   3.93765440e-01]\n",
      " [  1.36228233e-09   7.08822769e-02   9.29117722e-01]\n",
      " [  9.52224366e-02   3.17761531e-01   5.87016032e-01]\n",
      " [  2.97079449e-02   4.49615470e-01   5.20676585e-01]\n",
      " [  5.54882282e-02   5.81327940e-01   3.63183832e-01]\n",
      " [  1.64202765e-03   2.37899278e-01   7.60458694e-01]\n",
      " [  7.58605127e-03   3.24026940e-01   6.68387009e-01]\n",
      " [  1.64202765e-03   2.37899278e-01   7.60458694e-01]\n",
      " [  2.01367859e-02   6.72085738e-01   3.07777476e-01]\n",
      " [  4.13119512e-03   2.63689904e-01   7.32178901e-01]\n",
      " [  9.65541638e-03   2.61283432e-01   7.29061152e-01]\n",
      " [  6.59486777e-03   3.24361085e-01   6.69044047e-01]\n",
      " [  1.18855284e-03   4.99834867e-01   4.98976580e-01]\n",
      " [  1.75482752e-02   4.18647862e-01   5.63803862e-01]\n",
      " [  1.32507100e-01   3.42354280e-01   5.25138620e-01]\n",
      " [  6.50541580e-02   6.00350208e-01   3.34595634e-01]]\n",
      "准确度: 80.67%\n"
     ]
    }
   ],
   "source": [
    "y_hat = lr.predict(x)\n",
    "y_hat_prob = lr.predict_proba(x)\n",
    "print 'y_hat =', y_hat\n",
    "print 'y_hat_prob', y_hat_prob\n",
    "print '准确度: %.2f%%' % (100 * np.mean(y_hat == y.ravel()))"
   ]
  },
  {
   "cell_type": "markdown",
   "metadata": {},
   "source": [
    "## 绘图"
   ]
  },
  {
   "cell_type": "code",
   "execution_count": 64,
   "metadata": {
    "collapsed": false
   },
   "outputs": [
    {
     "name": "stdout",
     "output_type": "stream",
     "text": [
      "(500L, 500L) (500L, 500L)\n"
     ]
    }
   ],
   "source": [
    "# 以下几段都是绘制背景涂色\n",
    "# x轴，特征1\n",
    "# y轴，特征2\n",
    "M, N = 500, 500\n",
    "x1_min, x1_max = x[:, 0].min(), x[:, 0].max()\n",
    "x2_min, x2_max = x[:, 1].min(), x[:, 1].max()\n",
    "t1 = np.linspace(x1_min, x1_max, M)\n",
    "t2 = np.linspace(x2_min, x2_max, N)\n",
    "#x1 的每一行是t1，行数是t2的长度\n",
    "#x2 的每一列是t2，列数是t1的长度\n",
    "x1, x2 = np.meshgrid(t1, t2)\n",
    "print x1.shape,x2.shape\n",
    "\n",
    "#flat将所有数值展开，变成一个ndarray\n",
    "#stack 合并\n",
    "x_test = np.stack((x1.flat, x2.flat), axis=1)"
   ]
  },
  {
   "cell_type": "code",
   "execution_count": 58,
   "metadata": {
    "collapsed": false
   },
   "outputs": [],
   "source": [
    "mpl.rcParams['font.sans-serif'] = [u'simHei']\n",
    "cm_light = mpl.colors.ListedColormap(['#77E0A0','#FF8080','#A0A0FF'])\n",
    "cm_dark = mpl.colors.ListedColormap(['g','r','b'])"
   ]
  },
  {
   "cell_type": "code",
   "execution_count": 59,
   "metadata": {
    "collapsed": true
   },
   "outputs": [],
   "source": [
    "#预测\n",
    "y_hat = lr.predict(x_test)\n",
    "#使之与输入形状相同\n",
    "y_hat = y_hat.reshape(x1.shape)"
   ]
  },
  {
   "cell_type": "code",
   "execution_count": 60,
   "metadata": {
    "collapsed": true
   },
   "outputs": [],
   "source": [
    "import matplotlib.patches as mpatches"
   ]
  },
  {
   "cell_type": "code",
   "execution_count": 65,
   "metadata": {
    "collapsed": false
   },
   "outputs": [
    {
     "data": {
      "image/png": "[encoded data removed]",
      "text/plain": [
       "<matplotlib.figure.Figure at 0x2bd8d780>"
      ]
     },
     "metadata": {},
     "output_type": "display_data"
    }
   ],
   "source": [
    "# 预测值的显示\n",
    "plt.pcolormesh(x1, x2, y_hat, cmap=cm_light)\n",
    "# 样本的显示\n",
    "plt.scatter(x[:, 0], x[:, 1], c=y, edgecolors='k', s=50, cmap=cm_dark)\n",
    "\n",
    "plt.xlabel(u'花萼长度', fontsize=14)\n",
    "plt.ylabel(u'花萼宽度', fontsize=14)\n",
    "plt.xlim(x1_min, x1_max)\n",
    "plt.ylim(x2_min, x2_max)\n",
    "plt.grid()\n",
    "\n",
    "patchs = [\n",
    "    mpatches.Patch(color='#77E0A0', label='Iris-setosa'),\n",
    "    mpatches.Patch(color='#FF8080', label='Iris-versicolor'),\n",
    "    mpatches.Patch(color='#A0A0FF', label='Iris-virginica')]\n",
    "plt.legend(handles=patchs, fancybox=True, framealpha=0.8)\n",
    "plt.title(u'鸢尾花Logistic回归分类效果 - 标准化', fontsize=18)\n",
    "plt.show()"
   ]
  }
 ],
 "metadata": {
  "kernelspec": {
   "display_name": "Python 2",
   "language": "python",
   "name": "python2"
  },
  "language_info": {
   "codemirror_mode": {
    "name": "ipython",
    "version": 2
   },
   "file_extension": ".py",
   "mimetype": "text/x-python",
   "name": "python",
   "nbconvert_exporter": "python",
   "pygments_lexer": "ipython2",
   "version": "2.7.13"
  }
 },
 "nbformat": 4,
 "nbformat_minor": 2
}
