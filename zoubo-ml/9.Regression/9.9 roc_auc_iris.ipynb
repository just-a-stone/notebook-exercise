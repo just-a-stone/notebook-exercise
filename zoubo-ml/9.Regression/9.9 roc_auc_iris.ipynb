{
 "cells": [
  {
   "cell_type": "code",
   "execution_count": 21,
   "metadata": {
    "collapsed": true
   },
   "outputs": [],
   "source": [
    "import pandas as pd\n",
    "import numpy as np\n",
    "import matplotlib as mpl\n",
    "import matplotlib.pyplot as plt\n",
    "\n",
    "%matplotlib inline"
   ]
  },
  {
   "cell_type": "code",
   "execution_count": 22,
   "metadata": {
    "collapsed": true
   },
   "outputs": [],
   "source": [
    "np.random.seed(0)\n",
    "data = pd.read_csv('iris.data', header=None)"
   ]
  },
  {
   "cell_type": "code",
   "execution_count": 23,
   "metadata": {
    "collapsed": true
   },
   "outputs": [],
   "source": [
    "iris_types = data[4].unique()"
   ]
  },
  {
   "cell_type": "code",
   "execution_count": 24,
   "metadata": {
    "collapsed": true
   },
   "outputs": [],
   "source": [
    "for i, iris_type in enumerate(iris_types):\n",
    "    data.set_value(data[4] == iris_type, 4, i)"
   ]
  },
  {
   "cell_type": "code",
   "execution_count": 25,
   "metadata": {
    "collapsed": false
   },
   "outputs": [
    {
     "name": "stdout",
     "output_type": "stream",
     "text": [
      "     0    1\n",
      "0  5.1  3.5\n",
      "1  4.9  3.0\n",
      "2  4.7  3.2\n",
      "3  4.6  3.1\n",
      "4  5.0  3.6\n"
     ]
    }
   ],
   "source": [
    "x = data.iloc[:, :2]\n",
    "n, features = x.shape\n",
    "print x.head()"
   ]
  },
  {
   "cell_type": "code",
   "execution_count": 26,
   "metadata": {
    "collapsed": true
   },
   "outputs": [],
   "source": [
    "y = data.iloc[:, -1].astype(np.int)\n",
    "c_number = np.unique(y).size"
   ]
  },
  {
   "cell_type": "markdown",
   "metadata": {},
   "source": [
    "## 数据切割，onthot"
   ]
  },
  {
   "cell_type": "code",
   "execution_count": 27,
   "metadata": {
    "collapsed": true
   },
   "outputs": [],
   "source": [
    "from sklearn.model_selection import train_test_split, GridSearchCV\n",
    "from sklearn.preprocessing import label_binarize"
   ]
  },
  {
   "cell_type": "code",
   "execution_count": 28,
   "metadata": {
    "collapsed": true
   },
   "outputs": [],
   "source": [
    "x, x_test, y, y_test = train_test_split(x, y, train_size=0.6, random_state=0)\n",
    "y_one_hot = label_binarize(y_test, classes=np.arange(c_number))"
   ]
  },
  {
   "cell_type": "markdown",
   "metadata": {},
   "source": [
    "## 模型构建"
   ]
  },
  {
   "cell_type": "code",
   "execution_count": 29,
   "metadata": {
    "collapsed": true
   },
   "outputs": [],
   "source": [
    "from sklearn.linear_model import LogisticRegressionCV\n",
    "from sklearn.svm import SVC\n",
    "from sklearn.neighbors import KNeighborsClassifier"
   ]
  },
  {
   "cell_type": "code",
   "execution_count": 30,
   "metadata": {
    "collapsed": true
   },
   "outputs": [],
   "source": [
    "alpha = np.logspace(-2, 2, 20)\n",
    "models = [\n",
    "    ['KNN', KNeighborsClassifier(n_neighbors=7)],\n",
    "    ['LogisticRegression', LogisticRegressionCV(Cs=alpha, penalty='l2', cv=3)],\n",
    "    ['SVM(Linear)', GridSearchCV(SVC(kernel='linear', decision_function_shape='ovr'), param_grid={'C': alpha})],\n",
    "    ['SVM(RBF)', GridSearchCV(SVC(kernel='rbf', decision_function_shape='ovr'), param_grid={'C': alpha, 'gamma': alpha})]\n",
    "]"
   ]
  },
  {
   "cell_type": "code",
   "execution_count": 31,
   "metadata": {
    "collapsed": true
   },
   "outputs": [],
   "source": [
    "from itertools import cycle"
   ]
  },
  {
   "cell_type": "code",
   "execution_count": 32,
   "metadata": {
    "collapsed": false
   },
   "outputs": [
    {
     "data": {
      "text/plain": [
       "<matplotlib.figure.Figure at 0xbb4d588>"
      ]
     },
     "execution_count": 32,
     "metadata": {},
     "output_type": "execute_result"
    },
    {
     "data": {
      "text/plain": [
       "<matplotlib.figure.Figure at 0xbb4d588>"
      ]
     },
     "metadata": {},
     "output_type": "display_data"
    }
   ],
   "source": [
    "colors = cycle('gmcr')\n",
    "mpl.rcParams['font.sans-serif'] = u'SimHei'\n",
    "plt.figure(figsize=(7,6))"
   ]
  },
  {
   "cell_type": "code",
   "execution_count": 33,
   "metadata": {
    "collapsed": true
   },
   "outputs": [],
   "source": [
    "from sklearn import metrics"
   ]
  },
  {
   "cell_type": "code",
   "execution_count": 34,
   "metadata": {
    "collapsed": false
   },
   "outputs": [
    {
     "name": "stdout",
     "output_type": "stream",
     "text": [
      "KNN predict_proba\n",
      "0.877083333333\n",
      "[ 2.06913808  2.06913808  0.11288379]\n",
      "LogisticRegression predict_proba\n",
      "0.890972222222\n",
      "{'C': 0.11288378916846889}\n",
      "SVM(Linear)\n",
      "0.880694444444\n",
      "{'C': 0.18329807108324356, 'gamma': 0.48329302385717521}\n",
      "SVM(RBF)\n",
      "0.892361111111\n"
     ]
    },
    {
     "data": {
      "image/png": "[encoded data removed]",
      "text/plain": [
       "<matplotlib.figure.Figure at 0xbb60588>"
      ]
     },
     "metadata": {},
     "output_type": "display_data"
    }
   ],
   "source": [
    "for (name, model), color in zip(models, colors):\n",
    "    model.fit(x, y)\n",
    "    if hasattr(model, 'C_'):\n",
    "        print model.C_\n",
    "    if hasattr(model, 'best_params_'):\n",
    "        print model.best_params_\n",
    "    if hasattr(model, 'predict_proba'):\n",
    "        print name,'predict_proba'\n",
    "        y_score = model.predict_proba(x_test)\n",
    "    else:\n",
    "        print name\n",
    "        y_score = model.decision_function(x_test)\n",
    "    fpr, tpr, thresholds = metrics.roc_curve(y_one_hot.ravel(), y_score.ravel())\n",
    "    auc = metrics.auc(fpr, tpr)\n",
    "    print auc\n",
    "    plt.plot(fpr, tpr, c=color, lw=2, alpha=0.7, label=u'%s, AUC=%.3f' %(name, auc))\n",
    "\n",
    "plt.plot((0,1),(0,1), c='#808080', lw=2, ls='--', alpha=0.7)\n",
    "plt.xlim((-0.01, 1.02))\n",
    "plt.ylim((-0.01, 1.02))\n",
    "plt.xticks(np.arange(0, 1.1, 0.1))\n",
    "plt.yticks(np.arange(0, 1.1, 0.1))\n",
    "plt.xlabel('False Positive Rate', fontsize=13)\n",
    "plt.ylabel('True Positive Rate', fontsize=13)\n",
    "plt.grid(b=True, ls=':')\n",
    "plt.legend(loc='best', fancybox=True, framealpha=0.8, fontsize=12)\n",
    "plt.title(u'鸢尾花数据不同分离器的ROC和AUC', fontsize=17)\n",
    "plt.show()"
   ]
  }
 ],
 "metadata": {
  "kernelspec": {
   "display_name": "Python 2",
   "language": "python",
   "name": "python2"
  },
  "language_info": {
   "codemirror_mode": {
    "name": "ipython",
    "version": 2
   },
   "file_extension": ".py",
   "mimetype": "text/x-python",
   "name": "python",
   "nbconvert_exporter": "python",
   "pygments_lexer": "ipython2",
   "version": "2.7.13"
  }
 },
 "nbformat": 4,
 "nbformat_minor": 2
}
