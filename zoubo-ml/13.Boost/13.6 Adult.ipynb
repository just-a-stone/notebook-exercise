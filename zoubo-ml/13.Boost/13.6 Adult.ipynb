{
 "cells": [
  {
   "cell_type": "code",
   "execution_count": 24,
   "metadata": {
    "collapsed": false
   },
   "outputs": [
    {
     "name": "stdout",
     "output_type": "stream",
     "text": [
      "\n"
     ]
    }
   ],
   "source": [
    "import pandas as pd\n",
    "import numpy as np\n",
    "import matplotlib as mpl\n",
    "import matplotlib.pyplot as plt\n",
    "\n",
    "%matplotlib inline\n",
    "\n",
    "from sklearn import metrics\n",
    "from sklearn.model_selection import train_test_split\n",
    "from sklearn.ensemble import AdaBoostClassifier\n",
    "from sklearn.tree import DecisionTreeClassifier\n",
    "from sklearn.externals import joblib\n",
    "\n",
    "import os"
   ]
  },
  {
   "cell_type": "code",
   "execution_count": 25,
   "metadata": {
    "collapsed": true
   },
   "outputs": [],
   "source": [
    "pd.set_option('display.width', 400)\n",
    "pd.set_option('display.expand_frame_repr', False)\n",
    "pd.set_option('display.max_columns', 70)"
   ]
  },
  {
   "cell_type": "code",
   "execution_count": 26,
   "metadata": {
    "collapsed": true
   },
   "outputs": [],
   "source": [
    "column_names = 'age', 'workclass', 'fnlwgt', 'education', 'education-num', 'marital-status', 'occupation', \\\n",
    "                'relationship', 'race', 'sex', 'capital-gain', 'capital-loss', 'hours-per-week', 'native-country', 'income'"
   ]
  },
  {
   "cell_type": "code",
   "execution_count": 27,
   "metadata": {
    "collapsed": false
   },
   "outputs": [
    {
     "name": "stdout",
     "output_type": "stream",
     "text": [
      "(32560L,) (32560L,)\n",
      "验证准确率： 0.860380835381\n",
      "\t验证集查准率： 0.807656395892\n",
      "\t验证集召回率： 0.551587807678\n",
      "\t验证集F1： 0.655501667172\n",
      "[[ 0.51964823  0.48035177]\n",
      " [ 0.64648139  0.35351861]\n",
      " [ 0.60437533  0.39562467]\n",
      " ..., \n",
      " [ 0.68911805  0.31088195]\n",
      " [ 0.78896012  0.21103988]\n",
      " [ 0.29099714  0.70900286]]\n",
      "AUC = 0.9200491525\n"
     ]
    },
    {
     "data": {
      "image/png": "[encoded data removed]",
      "text/plain": [
       "<matplotlib.figure.Figure at 0xb0ad9b0>"
      ]
     },
     "metadata": {},
     "output_type": "display_data"
    }
   ],
   "source": [
    "model_file = 'adult.pkl'\n",
    "if os.path.exists(model_file):\n",
    "    model = joblib.load(model_file)\n",
    "else:\n",
    "    show_result = True\n",
    "    print u'读入数据'\n",
    "    data = pd.read_csv('adult.data', header=None, names=column_names)\n",
    "    \n",
    "    for name in data.column_names:\n",
    "        data[name] = pd.Categorical(data[name]).codes\n",
    "    x = data[data.columns[:-1]]\n",
    "    y = data[data.columns[-1]]\n",
    "    x_train, x_valid, y_train, y_valid = train_test_split(x, y, \\\n",
    "                                                       train_size=0.7, \\\n",
    "                                                       random_state=0)\n",
    "    \n",
    "    # 训练模型\n",
    "    base_estimator = DecisionTreeClassifier(criterion='gini', max_depth=3, \\\n",
    "                                           min_samples_split=5)\n",
    "    model = AdaBoostClassifier(base_estimator=base_estimator, \\\n",
    "                              n_estimators=50, learning_rate=0.1)\n",
    "    model.fit(x_train, y_train)\n",
    "    joblib.dump(model, model_file)\n",
    "    \n",
    "    if show_result:\n",
    "        y_train_pred = model.predict(x_train)\n",
    "        print u'训练集准确率：', metrics.accuracy_score(y_train, y_train_pred)\n",
    "        print u'\\t训练集查准率：', metrics.precision_score(y_train, y_train_pred)\n",
    "        print u'\\t训练集召回率：', metrics.recall_score(y_train, y_train_pred)\n",
    "        print u'\\t训练集F1：', metrics.f1_score(y_train, y_train_pred)\n",
    "        \n",
    "        y_valid_pred = model.predict(x_valid)\n",
    "        print u'验证准确率：', metrics.accuracy_score(y_valid, y_valid_pred)\n",
    "        print u'\\t验证集查准率：', metrics.precision_score(y_valid, y_valid_pred)\n",
    "        print u'\\t验证集召回率：', metrics.recall_score(y_valid, y_valid_pred)\n",
    "        print u'\\t验证集F1：', metrics.f1_score(y_valid, y_valid_pred)\n",
    "        \n",
    "data_test = pd.read_csv('adult.data', header=None, skiprows=1, names=column_names)\n",
    "for name in data_test.columns:\n",
    "    data_test[name] = pd.Categorical(data_test[name]).codes\n",
    "x_test = data_test[data_test.columns[:-1]]\n",
    "y_test = data_test[data_test.columns[-1]]\n",
    "y_test_pred = model.predict(x_test)\n",
    "print y_test.shape,y_test_pred.shape\n",
    "print u'验证准确率：', metrics.accuracy_score(y_test, y_test_pred)\n",
    "print u'\\t验证集查准率：', metrics.precision_score(y_test, y_test_pred)\n",
    "print u'\\t验证集召回率：', metrics.recall_score(y_test, y_test_pred)\n",
    "print u'\\t验证集F1：', metrics.f1_score(y_test, y_test_pred)\n",
    "\n",
    "y_test_proba = model.predict_proba(x_test)\n",
    "print y_test_proba\n",
    "y_test_proba = y_test_proba[:, 1]\n",
    "fpr, tpr, thresholds = metrics.roc_curve(y_test, y_test_proba)\n",
    "auc = metrics.auc(fpr, tpr)\n",
    "print 'AUC =', auc\n",
    "\n",
    "# 绘图\n",
    "mpl.rcParams['font.sans-serif'] = u'SimHei'\n",
    "mpl.rcParams['axes.unicode_minus'] = False\n",
    "\n",
    "plt.plot(fpr, tpr, 'r-', lw=2, alpha=0.8, label='AUC=%.3f' % auc)\n",
    "plt.plot((0,1), (0,1), c='b', lw=1.5, ls='--', alpha=0.7)\n",
    "plt.xlim((-0.01, 1.02))\n",
    "plt.ylim((-0.01, 1.02))\n",
    "plt.xticks(np.arange(0, 1.1, 0.1))\n",
    "plt.yticks(np.arange(0, 1.1, 0.1))\n",
    "plt.xlabel('False Positive Rate', fontsize=14)\n",
    "plt.ylabel('True Positive Rate', fontsize=14)\n",
    "plt.grid(b=True)\n",
    "plt.legend(loc='lower right', fancybox=True, framealpha=0.8, fontsize=14)\n",
    "plt.title(u'Adult数据的ROC曲线和AUC值', fontsize=17)\n",
    "plt.show()"
   ]
  }
 ],
 "metadata": {
  "kernelspec": {
   "display_name": "Python 2",
   "language": "python",
   "name": "python2"
  },
  "language_info": {
   "codemirror_mode": {
    "name": "ipython",
    "version": 2
   },
   "file_extension": ".py",
   "mimetype": "text/x-python",
   "name": "python",
   "nbconvert_exporter": "python",
   "pygments_lexer": "ipython2",
   "version": "2.7.13"
  }
 },
 "nbformat": 4,
 "nbformat_minor": 2
}
