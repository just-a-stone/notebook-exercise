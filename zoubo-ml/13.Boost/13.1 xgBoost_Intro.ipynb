{
 "cells": [
  {
   "cell_type": "code",
   "execution_count": 4,
   "metadata": {
    "collapsed": false
   },
   "outputs": [
    {
     "name": "stderr",
     "output_type": "stream",
     "text": [
      "D:\\env\\anaconda3\\envs\\py27\\lib\\site-packages\\jupyter_client\\jsonutil.py:67: DeprecationWarning: Interpreting naive datetime as local 2017-06-22 14:02:06.347915. Please add timezone info to timestamps.\n",
      "  new_obj[k] = extract_dates(v)\n"
     ]
    }
   ],
   "source": [
    "import warnings\n",
    "warnings.filterwarnings(action='ignore')"
   ]
  },
  {
   "cell_type": "code",
   "execution_count": 5,
   "metadata": {
    "collapsed": false
   },
   "outputs": [],
   "source": [
    "import xgboost as xgb\n",
    "import numpy as np"
   ]
  },
  {
   "cell_type": "code",
   "execution_count": 6,
   "metadata": {
    "collapsed": false
   },
   "outputs": [],
   "source": [
    "# 1、xgBoost的基本使用\n",
    "# 2、自定义损失函数的梯度和二阶导\n",
    "# 3、binary:logistic/logitraw"
   ]
  },
  {
   "cell_type": "code",
   "execution_count": 7,
   "metadata": {
    "collapsed": true
   },
   "outputs": [],
   "source": [
    "def g_h(y_hat, y):\n",
    "    p = 1.0 / (1.0 + np.exp(-y_hat))\n",
    "    g = p - y.get_label()\n",
    "    h = p * (1.0 - p)\n",
    "    return g, h"
   ]
  },
  {
   "cell_type": "code",
   "execution_count": 8,
   "metadata": {
    "collapsed": true
   },
   "outputs": [],
   "source": [
    "def error_rate(y_hat, y):\n",
    "    return 'error', float(sum(y.get_label() != (y_hat > 0.5))) / len(y_hat)"
   ]
  },
  {
   "cell_type": "markdown",
   "metadata": {},
   "source": [
    "## 读取数据"
   ]
  },
  {
   "cell_type": "code",
   "execution_count": 9,
   "metadata": {
    "collapsed": false
   },
   "outputs": [
    {
     "name": "stdout",
     "output_type": "stream",
     "text": [
      "<xgboost.core.DMatrix object at 0x0000000009ABD400>\n",
      "<class 'xgboost.core.DMatrix'>\n"
     ]
    }
   ],
   "source": [
    "data_train = xgb.DMatrix('agaricus_train.txt')\n",
    "data_test = xgb.DMatrix('agaricus_test.txt')\n",
    "print data_train\n",
    "print type(data_train)"
   ]
  },
  {
   "cell_type": "markdown",
   "metadata": {},
   "source": [
    "## xgboost调用参数设置"
   ]
  },
  {
   "cell_type": "code",
   "execution_count": 10,
   "metadata": {
    "collapsed": true
   },
   "outputs": [],
   "source": [
    "param = {\n",
    "    'max_depth': 3,\n",
    "    'eta': 1,\n",
    "    'silent': 1,\n",
    "    'objective': 'binary:logistic'\n",
    "}\n",
    "watchlist = [(data_test, 'eval'), (data_train, 'train')]\n",
    "n_round = 7"
   ]
  },
  {
   "cell_type": "markdown",
   "metadata": {},
   "source": [
    "## 调用"
   ]
  },
  {
   "cell_type": "code",
   "execution_count": 11,
   "metadata": {
    "collapsed": false
   },
   "outputs": [
    {
     "name": "stdout",
     "output_type": "stream",
     "text": [
      "[0]\teval-error:0.016139\ttrain-error:0.014433\teval-error:0.016139\ttrain-error:0.014433\n",
      "[1]\teval-error:0.016139\ttrain-error:0.014433\teval-error:0.016139\ttrain-error:0.014433\n",
      "[2]\teval-error:0.016139\ttrain-error:0.014433\teval-error:0.016139\ttrain-error:0.014433\n",
      "[3]\teval-error:0.016139\ttrain-error:0.014433\teval-error:0.016139\ttrain-error:0.014433\n",
      "[4]\teval-error:0.002483\ttrain-error:0.003071\teval-error:0.002483\ttrain-error:0.003071\n",
      "[5]\teval-error:0.002483\ttrain-error:0.003071\teval-error:0.002483\ttrain-error:0.003071\n",
      "[6]\teval-error:0.002483\ttrain-error:0.003071\teval-error:0.002483\ttrain-error:0.003071\n"
     ]
    }
   ],
   "source": [
    "bst = xgb.train(param, data_train, num_boost_round=n_round, \\\n",
    "               evals=watchlist, obj=g_h, feval=error_rate)"
   ]
  },
  {
   "cell_type": "code",
   "execution_count": 12,
   "metadata": {
    "collapsed": false
   },
   "outputs": [
    {
     "name": "stdout",
     "output_type": "stream",
     "text": [
      "[  6.09937888e-06   9.84727502e-01   6.09937888e-06 ...,   9.99932647e-01\n",
      "   4.45600620e-07   9.99932647e-01]\n",
      "[ 0.  1.  0. ...,  1.  0.  1.]\n"
     ]
    }
   ],
   "source": [
    "y_hat = bst.predict(data_test)\n",
    "y = data_test.get_label()\n",
    "print y_hat\n",
    "print y"
   ]
  },
  {
   "cell_type": "code",
   "execution_count": 13,
   "metadata": {
    "collapsed": false
   },
   "outputs": [
    {
     "name": "stdout",
     "output_type": "stream",
     "text": [
      "样本总数：\t1611\n",
      "错误数目：\t   4\n",
      "错误率：\t0.24829%\n"
     ]
    }
   ],
   "source": [
    "error = sum(y != (y_hat > 0.5))\n",
    "error_rate = float(error) / len(y_hat)\n",
    "print '样本总数：\\t', len(y_hat)\n",
    "print '错误数目：\\t%4d' % error\n",
    "print '错误率：\\t%.5f%%' % (100*error_rate)"
   ]
  }
 ],
 "metadata": {
  "kernelspec": {
   "display_name": "Python 2",
   "language": "python",
   "name": "python2"
  },
  "language_info": {
   "codemirror_mode": {
    "name": "ipython",
    "version": 2
   },
   "file_extension": ".py",
   "mimetype": "text/x-python",
   "name": "python",
   "nbconvert_exporter": "python",
   "pygments_lexer": "ipython2",
   "version": "2.7.13"
  }
 },
 "nbformat": 4,
 "nbformat_minor": 2
}
