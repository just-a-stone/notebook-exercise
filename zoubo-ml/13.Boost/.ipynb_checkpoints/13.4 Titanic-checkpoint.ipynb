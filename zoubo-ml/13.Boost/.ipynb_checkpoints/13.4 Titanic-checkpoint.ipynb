{
 "cells": [
  {
   "cell_type": "code",
   "execution_count": 1,
   "metadata": {
    "collapsed": true
   },
   "outputs": [],
   "source": [
    "import pandas as pd\n",
    "import numpy as np\n",
    "import xgboost as xgb\n",
    "\n",
    "from sklearn.linear_model import LogisticRegression\n",
    "from sklearn.model_selection import train_test_split\n",
    "from sklearn.ensemble import RandomForestRegressor\n",
    "from sklearn.ensemble import RandomForestClassifier\n",
    "from sklearn.metrics import accuracy_score\n",
    "import csv"
   ]
  },
  {
   "cell_type": "code",
   "execution_count": 2,
   "metadata": {
    "collapsed": false
   },
   "outputs": [
    {
     "name": "stderr",
     "output_type": "stream",
     "text": [
      "D:\\env\\anaconda3\\envs\\py27\\lib\\site-packages\\jupyter_client\\jsonutil.py:67: DeprecationWarning: Interpreting naive datetime as local 2017-06-22 16:11:56.017605. Please add timezone info to timestamps.\n",
      "  new_obj[k] = extract_dates(v)\n"
     ]
    }
   ],
   "source": [
    "import warnings\n",
    "warnings.filterwarnings(action='ignore')"
   ]
  },
  {
   "cell_type": "code",
   "execution_count": 3,
   "metadata": {
    "collapsed": true
   },
   "outputs": [],
   "source": [
    "def show_accuracy(a, b, tip):\n",
    "    acc = a.ravel() == b.ravel()\n",
    "    acc_rate = 100 * float(acc.sum()) / a.size\n",
    "    print '%s正确率: %.3f%%' % (tip, acc_rate)\n",
    "    return acc_rate"
   ]
  },
  {
   "cell_type": "code",
   "execution_count": null,
   "metadata": {
    "collapsed": true
   },
   "outputs": [],
   "source": [
    "def load_data(file_name, is_train):\n",
    "    data = pd.read_csv(file_name)\n",
    "    pd.set_option('display.width', 200)\n",
    "    print 'data.describe()=\\n', data.describe()\n",
    "    \n",
    "    # [性别] 转换为分类变量（可计算）\n",
    "    data['Sex'] = pd.Categorical(data['Sex']).codes\n",
    "    \n",
    "    # 补齐船 [票价] 格缺失值\n",
    "    if len(data.Fare[data.Fare == 0]) > 0:\n",
    "        # 计算不同社会层级各自的平均票价\n",
    "        fare = np.zeros(3)\n",
    "        for f in range(0,3):\n",
    "            fare[f] = data[data['Pclass'] == f + 1]['Fare'].dropna().median()\n",
    "        print fare\n",
    "        # 按社会层级不同，补充缺失值\n",
    "        for i in range(0, 3):\n",
    "            data.loc[(data.Fare == 0) && (data.Pclass == f+1), 'Fare'] = fare[f]\n",
    "            \n",
    "    print 'data.describe() =\\n', data.describe()\n",
    "    \n",
    "    # [年龄] 使用均值代替缺失值\n",
    "    # mean_age = data['Age'].dropna().mean()\n",
    "    # data.loc[(data.Age.isnull()), 'Age'] = mean_age\n",
    "    if is_train:\n",
    "        # [年龄] 使用随机森林预测年龄缺失值\n",
    "        print '随机森林预测缺失年龄：--start--'\n",
    "        data_for_age = data[['Age', 'Survived', 'Fare', 'Parch', 'SibSp', 'Pclass']]\n",
    "        age_exist = data_for_age.loc[(data.Age.notnull())]\n",
    "        age_null = data_for_age.loc[(data.Age.isnull())]\n",
    "        print age_exist\n",
    "        \n",
    "        x = age_exist.values[:, 1:]\n",
    "        y = age_exist.values[:, 0]\n",
    "        rfr = RandomForestRegressor(n_estimators=20)\n",
    "        rfr.fit(x, y)\n",
    "        age_hat = rfr.predict(age_null.values[:, 1:])\n",
    "        data.loc[(data.Age.isnull()), 'Age'] = age_hat\n",
    "        print '随机森林预测缺失年龄：--over--'\n",
    "    else:\n",
    "        print '随机森林预测缺失年龄2：--start--'\n",
    "        data_for_age = data[['Age', 'Fare', 'Parch', 'SibSp', 'Pclass']]\n",
    "        age_exist = data_for_age.loc[(data.Age.notnull())]\n",
    "        age_null = data_for_age.loc[(data.Age.isnull())]\n",
    "        \n",
    "        x = age_exist.values[:, 1:]\n",
    "        y = age_exist.values[:, 0]\n",
    "        rfr = RandomForestRegressor(n_estimators=1000)\n",
    "        rfr.fit(x, y)\n",
    "        age_hat = rfr.predict(age_null.values[:, 1:])\n",
    "        data.loc[(data.Age.isnull()), 'Age'] = age_hat\n",
    "        print '随机森林预测缺失年龄2：--over--'\n",
    "    data['Age'] = pd.cut(data['Age'], bins=6, labels=np.arange(6))\n",
    "    \n",
    "    # [起始城市] 缺失值打上标记，然后转换为分类变量\n",
    "    data.loc[(data.Embarked.isnull()), 'Embarked'] = 'S'\n",
    "    embarked_data = pd.get_dummies(data.Embarked)\n",
    "    print 'embarked_data =', embarked_data\n",
    "    \n"
   ]
  }
 ],
 "metadata": {
  "kernelspec": {
   "display_name": "Python 2",
   "language": "python",
   "name": "python2"
  },
  "language_info": {
   "codemirror_mode": {
    "name": "ipython",
    "version": 2
   },
   "file_extension": ".py",
   "mimetype": "text/x-python",
   "name": "python",
   "nbconvert_exporter": "python",
   "pygments_lexer": "ipython2",
   "version": "2.7.13"
  }
 },
 "nbformat": 4,
 "nbformat_minor": 2
}
