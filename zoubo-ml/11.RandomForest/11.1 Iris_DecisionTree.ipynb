{
 "cells": [
  {
   "cell_type": "code",
   "execution_count": 32,
   "metadata": {
    "collapsed": true
   },
   "outputs": [],
   "source": [
    "import pandas as pd\n",
    "import numpy as np\n",
    "import matplotlib as mpl\n",
    "import matplotlib.pyplot as plt\n",
    "\n",
    "%matplotlib inline"
   ]
  },
  {
   "cell_type": "code",
   "execution_count": 33,
   "metadata": {
    "collapsed": true
   },
   "outputs": [],
   "source": [
    "from sklearn import tree\n",
    "from sklearn.tree import DecisionTreeClassifier\n",
    "from sklearn.model_selection import train_test_split\n",
    "from sklearn.metrics import accuracy_score\n",
    "from sklearn.preprocessing import LabelEncoder\n",
    "\n",
    "import pydotplus"
   ]
  },
  {
   "cell_type": "code",
   "execution_count": 34,
   "metadata": {
    "collapsed": true
   },
   "outputs": [],
   "source": [
    "mpl.rcParams['font.sans-serif'] = [u'SimHei']"
   ]
  },
  {
   "cell_type": "code",
   "execution_count": 35,
   "metadata": {
    "collapsed": true
   },
   "outputs": [],
   "source": [
    "iris_feture_E = 'sepal length', 'sepal width', 'petal length', 'petal width'\n",
    "iris_feture = u'花萼长度', u'花萼宽度', u'花瓣长度', u'花瓣宽度'\n",
    "iris_class = 'Iris-setosa', 'Iris-versicolor', 'Iris-virginica'"
   ]
  },
  {
   "cell_type": "code",
   "execution_count": 36,
   "metadata": {
    "collapsed": true
   },
   "outputs": [],
   "source": [
    "path = '../9.Regression/iris.data'\n",
    "data = pd.read_csv(path, header=None)"
   ]
  },
  {
   "cell_type": "code",
   "execution_count": 37,
   "metadata": {
    "collapsed": true
   },
   "outputs": [],
   "source": [
    "x = data[range(4)]\n",
    "y = LabelEncoder().fit_transform(data[4])"
   ]
  },
  {
   "cell_type": "code",
   "execution_count": 38,
   "metadata": {
    "collapsed": false
   },
   "outputs": [],
   "source": [
    "# 为了可视化，仅使用前两列特征\n",
    "x = x.iloc[:,:2]"
   ]
  },
  {
   "cell_type": "code",
   "execution_count": 39,
   "metadata": {
    "collapsed": true
   },
   "outputs": [],
   "source": [
    "x_train, x_test, y_train, y_test = train_test_split(x, y, train_size=0.7, random_state=1)"
   ]
  },
  {
   "cell_type": "markdown",
   "metadata": {},
   "source": [
    "## 决策树参数估计/模型建立"
   ]
  },
  {
   "cell_type": "code",
   "execution_count": 40,
   "metadata": {
    "collapsed": true
   },
   "outputs": [],
   "source": [
    "# min_samples_split = 10：如果该结点包含的样本数目大于10，则(有可能)对其分支\n",
    "# min_samples_leaf = 10：若将某结点分支后，得到的每个子结点样本数目都大于10，则完成分支；否则，不进行分支"
   ]
  },
  {
   "cell_type": "code",
   "execution_count": 41,
   "metadata": {
    "collapsed": false
   },
   "outputs": [
    {
     "name": "stdout",
     "output_type": "stream",
     "text": [
      "accuracy_score: 0.622222222222\n"
     ]
    }
   ],
   "source": [
    "model = DecisionTreeClassifier(criterion='entropy')\n",
    "model.fit(x_train, y_train)\n",
    "y_test_hat = model.predict(x_test)\n",
    "print 'accuracy_score:', accuracy_score(y_test, y_test_hat)"
   ]
  },
  {
   "cell_type": "markdown",
   "metadata": {},
   "source": [
    "## 保存模型图形"
   ]
  },
  {
   "cell_type": "code",
   "execution_count": 42,
   "metadata": {
    "collapsed": false
   },
   "outputs": [],
   "source": [
    "# 保存\n",
    "# dot -Tpng my.dot -o my.png\n",
    "# 输出\n",
    "with open('iris.dot', 'w') as f:\n",
    "    tree.export_graphviz(model, out_file=f)"
   ]
  },
  {
   "cell_type": "code",
   "execution_count": 43,
   "metadata": {
    "collapsed": true
   },
   "outputs": [],
   "source": [
    "# 给定文件名输出\n",
    "tree.export_graphviz(model, out_file='iris1.dot')"
   ]
  },
  {
   "cell_type": "code",
   "execution_count": 44,
   "metadata": {
    "collapsed": false
   },
   "outputs": [],
   "source": [
    "# 输出为pdf\n",
    "dot_data = tree.export_graphviz(model, out_file=None, feature_names=iris_feture_E, \\\n",
    "                              class_names=iris_class, filled=True, rounded=True, \\\n",
    "                               special_characters=True)\n",
    "graph = pydotplus.graph_from_dot_data(dot_data)\n",
    "graph.write_pdf('iris.pdf')\n",
    "f = open('iris.png', 'wb')\n",
    "f.write(graph.create_png())\n",
    "f.close()"
   ]
  },
  {
   "cell_type": "markdown",
   "metadata": {},
   "source": [
    "## 绘图"
   ]
  },
  {
   "cell_type": "code",
   "execution_count": 45,
   "metadata": {
    "collapsed": false
   },
   "outputs": [
    {
     "name": "stdout",
     "output_type": "stream",
     "text": [
      "(2500L, 2L)\n"
     ]
    }
   ],
   "source": [
    "N,M = 50,50\n",
    "x1_min, x2_min = x.min()\n",
    "x1_max, x2_max = x.max()\n",
    "t1 = np.linspace(x1_min, x1_max, N)\n",
    "t2 = np.linspace(x2_min, x2_max, M)\n",
    "x1, x2 = np.meshgrid(t1,t2) # 生成网格采样点\n",
    "x_show = np.stack((x1.flat, x2.flat), axis=1) #测试点\n",
    "print x_show.shape"
   ]
  },
  {
   "cell_type": "code",
   "execution_count": 46,
   "metadata": {
    "collapsed": false
   },
   "outputs": [
    {
     "name": "stdout",
     "output_type": "stream",
     "text": [
      "(2500L,)\n",
      "[0 0 0 ..., 2 2 2]\n"
     ]
    }
   ],
   "source": [
    "cm_light = mpl.colors.ListedColormap(['#A0FFA0', '#FFA0A0', '#A0A0FF'])\n",
    "cm_dark = mpl.colors.ListedColormap(['g','r','b'])\n",
    "y_show_hat = model.predict(x_show)  # 预测\n",
    "print y_show_hat.shape\n",
    "print y_show_hat"
   ]
  },
  {
   "cell_type": "code",
   "execution_count": 47,
   "metadata": {
    "collapsed": false
   },
   "outputs": [
    {
     "name": "stdout",
     "output_type": "stream",
     "text": [
      "[[0 0 0 ..., 1 1 1]\n",
      " [0 0 0 ..., 1 1 1]\n",
      " [0 0 0 ..., 1 1 1]\n",
      " ..., \n",
      " [0 0 0 ..., 2 2 2]\n",
      " [0 0 0 ..., 2 2 2]\n",
      " [0 0 0 ..., 2 2 2]]\n"
     ]
    }
   ],
   "source": [
    "y_show_hat = y_show_hat.reshape(x1.shape)\n",
    "print y_show_hat"
   ]
  },
  {
   "cell_type": "code",
   "execution_count": 48,
   "metadata": {
    "collapsed": false
   },
   "outputs": [
    {
     "data": {
      "image/png": "[encoded data removed]",
      "text/plain": [
       "<matplotlib.figure.Figure at 0xd9bf128>"
      ]
     },
     "metadata": {},
     "output_type": "display_data"
    }
   ],
   "source": [
    "plt.pcolormesh(x1, x2, y_show_hat, cmap=cm_light)  # 预测值显示\n",
    "plt.scatter(x_test[0], x_test[1], c=y_test.ravel(), edgecolors='k', s=150, \\\n",
    "            zorder=10, cmap=cm_dark, marker='*') # 测试数据\n",
    "plt.scatter(x[0], x[1], c=y.ravel(), edgecolors='k', s=40, cmap=cm_dark) # 全部数据\n",
    "plt.xlabel(iris_feture[0], fontsize=15)\n",
    "plt.ylabel(iris_feture[1], fontsize=15)\n",
    "plt.xlim(x1_min, x1_max)\n",
    "plt.ylim(x2_min, x2_max)\n",
    "plt.grid(True)\n",
    "plt.title(u'鸢尾花数据的决策树分类', fontsize=17)\n",
    "plt.show()"
   ]
  },
  {
   "cell_type": "markdown",
   "metadata": {},
   "source": [
    "## 判断模型好坏"
   ]
  },
  {
   "cell_type": "code",
   "execution_count": 49,
   "metadata": {
    "collapsed": false
   },
   "outputs": [
    {
     "name": "stdout",
     "output_type": "stream",
     "text": [
      "[0 1 2 0 2 2 1 0 0 2 2 0 1 2 1 0 2 1 0 0 1 0 2 0 2 1 0 0 1 1 2 2 2 2 1 0 1\n",
      " 0 2 1 2 0 1 1 1]\n",
      "[0 1 1 0 2 1 2 0 0 2 1 0 2 1 1 0 1 1 0 0 1 1 1 0 2 1 0 0 1 2 1 2 1 2 2 0 1\n",
      " 0 1 2 2 0 2 2 1]\n"
     ]
    }
   ],
   "source": [
    "y_test = y_test.reshape(-1)\n",
    "print y_test_hat\n",
    "print y_test"
   ]
  },
  {
   "cell_type": "code",
   "execution_count": 50,
   "metadata": {
    "collapsed": false
   },
   "outputs": [
    {
     "name": "stdout",
     "output_type": "stream",
     "text": [
      "准确度: 62.22%\n"
     ]
    }
   ],
   "source": [
    "result = (y_test == y_test_hat)\n",
    "acc = np.mean(result)\n",
    "print u'准确度: %.2f%%' % (100 * acc)"
   ]
  },
  {
   "cell_type": "markdown",
   "metadata": {},
   "source": [
    "## 决策树深度对模型结果的影响"
   ]
  },
  {
   "cell_type": "code",
   "execution_count": 52,
   "metadata": {
    "collapsed": true
   },
   "outputs": [],
   "source": [
    "depth = np.arange(1,15)\n",
    "err_list = []"
   ]
  },
  {
   "cell_type": "code",
   "execution_count": 53,
   "metadata": {
    "collapsed": false
   },
   "outputs": [
    {
     "name": "stdout",
     "output_type": "stream",
     "text": [
      "1  错误率：44.44%\n",
      "2  错误率：40.00%\n",
      "3  错误率：20.00%\n",
      "4  错误率：24.44%\n",
      "5  错误率：26.67%\n",
      "6  错误率：26.67%\n",
      "7  错误率：35.56%\n",
      "8  错误率：42.22%\n",
      "9  错误率：35.56%\n",
      "10  错误率：40.00%\n",
      "11  错误率：37.78%\n",
      "12  错误率：35.56%\n",
      "13  错误率：37.78%\n",
      "14  错误率：35.56%\n"
     ]
    },
    {
     "data": {
      "image/png": "[encoded data removed]",
      "text/plain": [
       "<matplotlib.figure.Figure at 0xd99db38>"
      ]
     },
     "metadata": {},
     "output_type": "display_data"
    }
   ],
   "source": [
    "for d in depth:\n",
    "    clf = DecisionTreeClassifier(criterion='entropy', max_depth=d)\n",
    "    clf.fit(x_train, y_train)\n",
    "    y_test_hat = clf.predict(x_test)\n",
    "    err = 1 - accuracy_score(y_test, y_test_hat)\n",
    "    err_list.append(err)\n",
    "    print d,u' 错误率：%.2f%%' % (100 * err)\n",
    "plt.plot(depth, err_list, 'ro-', lw=2)\n",
    "plt.xlabel(u'决策树深度')\n",
    "plt.ylabel(u'错误率')\n",
    "plt.title(u'决策树深度于过拟合', fontsize=17)\n",
    "plt.grid(b=True, ls=':')\n",
    "plt.show()"
   ]
  }
 ],
 "metadata": {
  "kernelspec": {
   "display_name": "Python 2",
   "language": "python",
   "name": "python2"
  },
  "language_info": {
   "codemirror_mode": {
    "name": "ipython",
    "version": 2
   },
   "file_extension": ".py",
   "mimetype": "text/x-python",
   "name": "python",
   "nbconvert_exporter": "python",
   "pygments_lexer": "ipython2",
   "version": "2.7.13"
  }
 },
 "nbformat": 4,
 "nbformat_minor": 2
}
