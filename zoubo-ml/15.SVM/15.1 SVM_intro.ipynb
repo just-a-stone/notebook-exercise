{
 "cells": [
  {
   "cell_type": "code",
   "execution_count": 59,
   "metadata": {
    "collapsed": false
   },
   "outputs": [],
   "source": [
    "import numpy as np\n",
    "import pandas as pd\n",
    "import matplotlib as mpl\n",
    "import matplotlib.pyplot as plt\n",
    "\n",
    "%matplotlib inline\n",
    "\n",
    "from sklearn import svm\n",
    "from sklearn.model_selection import train_test_split\n",
    "from sklearn.metrics import accuracy_score"
   ]
  },
  {
   "cell_type": "code",
   "execution_count": 60,
   "metadata": {
    "collapsed": true
   },
   "outputs": [],
   "source": [
    "iris_feature = u'花萼长度', u'花萼宽度', u'花瓣长度', u'花瓣宽度'\n",
    "path = '../9.Regression/iris.data'\n",
    "data = pd.read_csv(path, header=None)"
   ]
  },
  {
   "cell_type": "code",
   "execution_count": 61,
   "metadata": {
    "collapsed": true
   },
   "outputs": [],
   "source": [
    "x, y = data[[0,1]], pd.Categorical(data[4]).codes\n",
    "x_train, x_test, y_train, y_test = train_test_split(x, y, random_state=1, \\\n",
    "                                                   train_size=0.6)"
   ]
  },
  {
   "cell_type": "markdown",
   "metadata": {},
   "source": [
    "## SVM建模"
   ]
  },
  {
   "cell_type": "code",
   "execution_count": 62,
   "metadata": {
    "collapsed": false
   },
   "outputs": [
    {
     "data": {
      "text/plain": [
       "SVC(C=0.1, cache_size=200, class_weight=None, coef0=0.0,\n",
       "  decision_function_shape='ovr', degree=3, gamma='auto', kernel='linear',\n",
       "  max_iter=-1, probability=False, random_state=None, shrinking=True,\n",
       "  tol=0.001, verbose=False)"
      ]
     },
     "execution_count": 62,
     "metadata": {},
     "output_type": "execute_result"
    }
   ],
   "source": [
    "clf = svm.SVC(C=0.1, kernel='linear', decision_function_shape='ovr')\n",
    "# clf = svm.SVC(C=0.8, kernel='rbf', gamma=20, decision_function_shape='ovr')\n",
    "clf.fit(x_train, y_train.ravel())"
   ]
  },
  {
   "cell_type": "code",
   "execution_count": 63,
   "metadata": {
    "collapsed": false
   },
   "outputs": [
    {
     "name": "stdout",
     "output_type": "stream",
     "text": [
      "0.8\n",
      "训练集准确率： 0.8\n",
      "0.8\n",
      "测试集准确率： 0.8\n"
     ]
    }
   ],
   "source": [
    "print clf.score(x_train, y_train)\n",
    "print u'训练集准确率：', accuracy_score(y_train, clf.predict(x_train))\n",
    "print clf.score(x_test, y_test)\n",
    "print u'测试集准确率：', accuracy_score(y_test, clf.predict(x_test))"
   ]
  },
  {
   "cell_type": "code",
   "execution_count": 64,
   "metadata": {
    "collapsed": false
   },
   "outputs": [
    {
     "name": "stdout",
     "output_type": "stream",
     "text": [
      "       0    1\n",
      "11   4.8  3.4\n",
      "113  5.7  2.5\n",
      "123  6.3  2.7\n",
      "12   4.8  3.0\n",
      "2    4.7  3.2\n",
      "decision_function:\n",
      "[[ 2.22976777  0.93523902 -0.16500679]\n",
      " [-0.12204492  2.11891317  1.00313176]\n",
      " [-0.23499985  1.11410221  2.12089764]\n",
      " [ 2.16897433  0.99886921 -0.16784355]\n",
      " [ 2.22326299  0.96255343 -0.18581642]\n",
      " [-0.23718865  1.07538094  2.16180772]\n",
      " [ 2.27755165  0.92623764 -0.20378929]\n",
      " [-0.14162089  1.05737818  2.08424271]\n",
      " [-0.20679194  1.04356584  2.1632261 ]\n",
      " [-0.26977418  1.06847477  2.20129941]\n",
      " [-0.07644985  2.07119052  1.00525933]\n",
      " [-0.23937746  1.03665967  2.20271779]\n",
      " [-0.11772895  1.05287749  2.06485146]\n",
      " [ 2.21888538 -0.11488911  0.89600373]\n",
      " [-0.23931582  2.18013788  1.05917794]\n",
      " [-0.22849507  1.0867878   2.14170727]\n",
      " [-0.23718865  1.07538094  2.16180772]\n",
      " [ 1.01480194  2.11922344 -0.13402538]\n",
      " [-0.1438097   1.01865691  2.12515278]\n",
      " [-0.07426104  2.10991179  0.96434926]\n",
      " [ 2.1320112  -0.08547949  0.95346829]\n",
      " [ 2.16028075  0.98746236 -0.14774311]\n",
      " [ 2.24058852 -0.15811106  0.91752255]\n",
      " [-0.23937746  1.03665967  2.20271779]\n",
      " [ 2.26454209  0.98086646 -0.24540855]\n",
      " [-0.16332403  2.10060014  1.06272389]\n",
      " [-0.25889179  1.1186029   2.14028889]\n",
      " [-0.09383701  1.0483768   2.04546021]\n",
      " [ 2.14939836  0.93733423 -0.08673259]\n",
      " [ 2.14289359  0.96464864 -0.10754222]\n",
      " [-0.11554015  2.09159876  1.02394139]\n",
      " [ 2.16028075  0.98746236 -0.14774311]\n",
      " [-0.48261284  1.14770224  2.33491059]\n",
      " [-0.18071119  1.07778642  2.10292477]\n",
      " [-0.5         1.12488853  2.37511147]\n",
      " [-0.28497254  1.08438232  2.20059022]\n",
      " [-0.29579328  2.1777324   1.11806088]\n",
      " [-0.1047194   0.99824868  2.10647072]\n",
      " [-0.31324209  1.01144047  2.30180161]\n",
      " [-0.03735955  2.05078228  0.98657727]\n",
      " [ 2.16672389 -0.18333026  1.01660637]\n",
      " [-0.11554015  2.09159876  1.02394139]\n",
      " [ 2.13426164  1.09671999 -0.23098163]\n",
      " [-0.0894594   2.12581933  0.96364007]\n",
      " [-0.31755806  1.07747615  2.24008191]\n",
      " [ 2.18198389  0.9442404  -0.12622429]\n",
      " [-0.33926119  1.12069811  2.21856309]\n",
      " [ 2.19718224  0.92833285 -0.1255151 ]\n",
      " [ 2.22976777  0.93523902 -0.16500679]\n",
      " [-0.12861134  1.00274936  2.12586197]\n",
      " [-0.05255791  2.06668983  0.98586808]\n",
      " [-0.27846776  1.05706791  2.22139985]\n",
      " [ 2.16678553  0.96014795 -0.12693348]\n",
      " [ 2.20368702  0.90101844 -0.10470546]\n",
      " [-0.0634403   1.0165617   2.04687859]\n",
      " [ 2.23195657  0.97396029 -0.20591686]\n",
      " [-0.11554015  2.09159876  1.02394139]\n",
      " [ 2.18417269  0.98296167 -0.16713436]\n",
      " [-0.23718865  1.07538094  2.16180772]\n",
      " [ 2.0690906   1.08290765 -0.15199825]\n",
      " [ 2.24715493  0.95805274 -0.20520767]\n",
      " [-0.1829      1.03906515  2.14383485]\n",
      " [ 2.28843404  0.97636577 -0.2647998 ]\n",
      " [ 0.97783881  2.03487473 -0.01271354]\n",
      " [ 2.24934374  0.996774   -0.24611774]\n",
      " [-0.0894594   2.12581933  0.96364007]\n",
      " [ 0.96920687  2.16694608 -0.13615295]\n",
      " [ 2.1732903   0.93283354 -0.10612384]\n",
      " [ 2.14508239  1.0033699  -0.1484523 ]\n",
      " [ 1.05389224  2.0988152  -0.15270744]\n",
      " [ 2.30794837  0.89442254 -0.20237091]\n",
      " [-0.09383701  1.0483768   2.04546021]\n",
      " [-0.15681925  1.07328573  2.08353352]\n",
      " [ 2.18198389  0.9442404  -0.12622429]\n",
      " [-0.26977418  1.06847477  2.20129941]\n",
      " [-0.06125149  2.05528297  1.00596852]\n",
      " [-0.2870997   2.18913926  1.09796044]\n",
      " [-0.32625164  1.06606929  2.26018235]\n",
      " [-0.11554015  2.09159876  1.02394139]\n",
      " [ 2.08641612  0.96224316 -0.04865928]\n",
      " [ 2.12119045  1.00787059 -0.12906105]\n",
      " [-0.20241433  2.12100838  1.08140595]\n",
      " [-0.17201761  1.08919328  2.08282433]\n",
      " [-0.40443224  1.10688577  2.29754647]\n",
      " [-0.10684657  2.10300562  1.00384095]\n",
      " [-0.21980149  1.09819466  2.12160683]\n",
      " [-0.19809836  1.0549727   2.14312566]\n",
      " [-0.26539657  1.1459173   2.11947926]\n",
      " [-0.26977418  1.06847477  2.20129941]\n",
      " [ 2.16028075  0.98746236 -0.14774311]]\n",
      "\n",
      "predict:\n",
      "[0 1 2 0 0 2 0 2 2 2 1 2 2 0 1 2 2 1 2 1 0 0 0 2 0 1 2 2 0 0 1 0 2 2 2 2 1\n",
      " 2 2 1 0 1 0 1 2 0 2 0 0 2 1 2 0 0 2 0 1 0 2 0 0 2 0 1 0 1 1 0 0 1 0 2 2 0\n",
      " 2 1 1 2 1 0 0 1 2 2 1 2 2 2 2 0]\n"
     ]
    }
   ],
   "source": [
    "# decision_function\n",
    "print x_train[:5]\n",
    "print 'decision_function:\\n', clf.decision_function(x_train)\n",
    "print '\\npredict:\\n', clf.predict(x_train)"
   ]
  },
  {
   "cell_type": "markdown",
   "metadata": {},
   "source": [
    "## 绘图"
   ]
  },
  {
   "cell_type": "code",
   "execution_count": 65,
   "metadata": {
    "collapsed": true
   },
   "outputs": [],
   "source": [
    "x1_min, x2_min = x.min()\n",
    "x1_max, x2_max = x.max()\n",
    "x1, x2 = np.mgrid[x1_min:x1_max:500j, x2_min:x2_max:500j]\n",
    "grid_test = np.stack((x1.flat, x2.flat), axis=1)\n",
    "grid_hat = clf.predict(grid_test)\n",
    "grid_hat = grid_hat.reshape(x1.shape)"
   ]
  },
  {
   "cell_type": "code",
   "execution_count": 66,
   "metadata": {
    "collapsed": false
   },
   "outputs": [],
   "source": [
    "mpl.rcParams['font.sans-serif'] = [u'SimHei']\n",
    "mpl.rcParams['axes.unicode_minus'] = False"
   ]
  },
  {
   "cell_type": "code",
   "execution_count": 67,
   "metadata": {
    "collapsed": true
   },
   "outputs": [],
   "source": [
    "cm_light = mpl.colors.ListedColormap(['#A0FFA0', '#FFA0A0', '#A0A0FF'])\n",
    "cm_dark = mpl.colors.ListedColormap(['g', 'r', 'b'])"
   ]
  },
  {
   "cell_type": "code",
   "execution_count": 68,
   "metadata": {
    "collapsed": false
   },
   "outputs": [
    {
     "data": {
      "image/png": "[encoded data removed]",
      "text/plain": [
       "<matplotlib.figure.Figure at 0xb905c50>"
      ]
     },
     "metadata": {},
     "output_type": "display_data"
    }
   ],
   "source": [
    "plt.pcolormesh(x1, x2, grid_hat, cmap=cm_light)\n",
    "plt.scatter(x[0], x[1], c=y, edgecolors='k', s=50, cmap=cm_dark)\n",
    "# plt.scatter(x_test[0], x_test[1], s=120 ,zorder=10)\n",
    "plt.xlabel(iris_feature[0], fontsize=13)\n",
    "plt.ylabel(iris_feature[1], fontsize=13)\n",
    "plt.xlim(x1_min, x1_max)\n",
    "plt.ylim(x2_min, x2_max)\n",
    "plt.title(u'鸢尾花SVM二特征分类', fontsize=16)\n",
    "plt.grid(b=True, ls=':')\n",
    "plt.tight_layout(pad=1.5)\n",
    "plt.show()"
   ]
  }
 ],
 "metadata": {
  "kernelspec": {
   "display_name": "Python 2",
   "language": "python",
   "name": "python2"
  },
  "language_info": {
   "codemirror_mode": {
    "name": "ipython",
    "version": 2
   },
   "file_extension": ".py",
   "mimetype": "text/x-python",
   "name": "python",
   "nbconvert_exporter": "python",
   "pygments_lexer": "ipython2",
   "version": "2.7.13"
  }
 },
 "nbformat": 4,
 "nbformat_minor": 2
}
